{
 "cells": [
  {
   "cell_type": "code",
   "execution_count": 1,
   "metadata": {},
   "outputs": [
    {
     "name": "stderr",
     "output_type": "stream",
     "text": [
      "Loading dataset:   0%|          | 0/6 [00:00<?, ?it/s]pixdim[0] (qfac) should be 1 (default) or -1; setting qfac to 1\n"
     ]
    },
    {
     "name": "stdout",
     "output_type": "stream",
     "text": [
      "2023-06-01 19:38:45,110 - pixdim[0] (qfac) should be 1 (default) or -1; setting qfac to 1\n"
     ]
    },
    {
     "name": "stderr",
     "output_type": "stream",
     "text": [
      "pixdim[0] (qfac) should be 1 (default) or -1; setting qfac to 1\n"
     ]
    },
    {
     "name": "stdout",
     "output_type": "stream",
     "text": [
      "2023-06-01 19:38:45,112 - pixdim[0] (qfac) should be 1 (default) or -1; setting qfac to 1\n"
     ]
    },
    {
     "name": "stderr",
     "output_type": "stream",
     "text": [
      "pixdim[0] (qfac) should be 1 (default) or -1; setting qfac to 1\n"
     ]
    },
    {
     "name": "stdout",
     "output_type": "stream",
     "text": [
      "2023-06-01 19:38:45,123 - pixdim[0] (qfac) should be 1 (default) or -1; setting qfac to 1\n"
     ]
    },
    {
     "name": "stderr",
     "output_type": "stream",
     "text": [
      "pixdim[0] (qfac) should be 1 (default) or -1; setting qfac to 1\n"
     ]
    },
    {
     "name": "stdout",
     "output_type": "stream",
     "text": [
      "2023-06-01 19:38:45,124 - pixdim[0] (qfac) should be 1 (default) or -1; setting qfac to 1\n"
     ]
    },
    {
     "name": "stderr",
     "output_type": "stream",
     "text": [
      "pixdim[0] (qfac) should be 1 (default) or -1; setting qfac to 1\n"
     ]
    },
    {
     "name": "stdout",
     "output_type": "stream",
     "text": [
      "2023-06-01 19:38:45,861 - pixdim[0] (qfac) should be 1 (default) or -1; setting qfac to 1\n"
     ]
    },
    {
     "name": "stderr",
     "output_type": "stream",
     "text": [
      "pixdim[0] (qfac) should be 1 (default) or -1; setting qfac to 1\n"
     ]
    },
    {
     "name": "stdout",
     "output_type": "stream",
     "text": [
      "2023-06-01 19:38:45,928 - pixdim[0] (qfac) should be 1 (default) or -1; setting qfac to 1\n"
     ]
    },
    {
     "name": "stderr",
     "output_type": "stream",
     "text": [
      "pixdim[0] (qfac) should be 1 (default) or -1; setting qfac to 1\n"
     ]
    },
    {
     "name": "stdout",
     "output_type": "stream",
     "text": [
      "2023-06-01 19:38:45,966 - pixdim[0] (qfac) should be 1 (default) or -1; setting qfac to 1\n"
     ]
    },
    {
     "name": "stderr",
     "output_type": "stream",
     "text": [
      "Loading dataset:  17%|█▋        | 1/6 [00:01<00:08,  1.77s/it]pixdim[0] (qfac) should be 1 (default) or -1; setting qfac to 1\n"
     ]
    },
    {
     "name": "stdout",
     "output_type": "stream",
     "text": [
      "2023-06-01 19:38:46,892 - pixdim[0] (qfac) should be 1 (default) or -1; setting qfac to 1\n"
     ]
    },
    {
     "name": "stderr",
     "output_type": "stream",
     "text": [
      "pixdim[0] (qfac) should be 1 (default) or -1; setting qfac to 1\n"
     ]
    },
    {
     "name": "stdout",
     "output_type": "stream",
     "text": [
      "2023-06-01 19:38:46,927 - pixdim[0] (qfac) should be 1 (default) or -1; setting qfac to 1\n"
     ]
    },
    {
     "name": "stderr",
     "output_type": "stream",
     "text": [
      "pixdim[0] (qfac) should be 1 (default) or -1; setting qfac to 1\n"
     ]
    },
    {
     "name": "stdout",
     "output_type": "stream",
     "text": [
      "2023-06-01 19:38:47,069 - pixdim[0] (qfac) should be 1 (default) or -1; setting qfac to 1\n"
     ]
    },
    {
     "name": "stderr",
     "output_type": "stream",
     "text": [
      "pixdim[0] (qfac) should be 1 (default) or -1; setting qfac to 1\n"
     ]
    },
    {
     "name": "stdout",
     "output_type": "stream",
     "text": [
      "2023-06-01 19:38:47,500 - pixdim[0] (qfac) should be 1 (default) or -1; setting qfac to 1\n"
     ]
    },
    {
     "name": "stderr",
     "output_type": "stream",
     "text": [
      "Loading dataset:  33%|███▎      | 2/6 [00:03<00:06,  1.67s/it]pixdim[0] (qfac) should be 1 (default) or -1; setting qfac to 1\n"
     ]
    },
    {
     "name": "stdout",
     "output_type": "stream",
     "text": [
      "2023-06-01 19:38:48,744 - pixdim[0] (qfac) should be 1 (default) or -1; setting qfac to 1\n"
     ]
    },
    {
     "name": "stderr",
     "output_type": "stream",
     "text": [
      "Loading dataset: 100%|██████████| 6/6 [00:04<00:00,  1.22it/s]\n"
     ]
    },
    {
     "data": {
      "text/html": [
       "<pre style=\"white-space:pre;overflow-x:auto;line-height:normal;font-family:Menlo,'DejaVu Sans Mono',consolas,'Courier New',monospace\"><span style=\"color: #008080; text-decoration-color: #008080; font-weight: bold\">1024</span> <span style=\"color: #008080; text-decoration-color: #008080; font-weight: bold\">1024</span>\n",
       "</pre>\n"
      ],
      "text/plain": [
       "\u001b[1;36m1024\u001b[0m \u001b[1;36m1024\u001b[0m\n"
      ]
     },
     "metadata": {},
     "output_type": "display_data"
    },
    {
     "data": {
      "text/html": [
       "<pre style=\"white-space:pre;overflow-x:auto;line-height:normal;font-family:Menlo,'DejaVu Sans Mono',consolas,'Courier New',monospace\"><span style=\"font-weight: bold\">{</span>\n",
       "    <span style=\"color: #008000; text-decoration-color: #008000\">'image'</span>: <span style=\"color: #800080; text-decoration-color: #800080; font-weight: bold\">tensor</span><span style=\"font-weight: bold\">([[[[</span><span style=\"color: #008080; text-decoration-color: #008080; font-weight: bold\">0</span>., <span style=\"color: #008080; text-decoration-color: #008080; font-weight: bold\">0</span>., <span style=\"color: #008080; text-decoration-color: #008080; font-weight: bold\">0</span>.,  <span style=\"color: #808000; text-decoration-color: #808000\">...</span>, <span style=\"color: #008080; text-decoration-color: #008080; font-weight: bold\">0</span>., <span style=\"color: #008080; text-decoration-color: #008080; font-weight: bold\">0</span>., <span style=\"color: #008080; text-decoration-color: #008080; font-weight: bold\">0</span>.<span style=\"font-weight: bold\">]</span>,\n",
       "          <span style=\"font-weight: bold\">[</span><span style=\"color: #008080; text-decoration-color: #008080; font-weight: bold\">0</span>., <span style=\"color: #008080; text-decoration-color: #008080; font-weight: bold\">0</span>., <span style=\"color: #008080; text-decoration-color: #008080; font-weight: bold\">0</span>.,  <span style=\"color: #808000; text-decoration-color: #808000\">...</span>, <span style=\"color: #008080; text-decoration-color: #008080; font-weight: bold\">0</span>., <span style=\"color: #008080; text-decoration-color: #008080; font-weight: bold\">0</span>., <span style=\"color: #008080; text-decoration-color: #008080; font-weight: bold\">0</span>.<span style=\"font-weight: bold\">]</span>,\n",
       "          <span style=\"font-weight: bold\">[</span><span style=\"color: #008080; text-decoration-color: #008080; font-weight: bold\">0</span>., <span style=\"color: #008080; text-decoration-color: #008080; font-weight: bold\">0</span>., <span style=\"color: #008080; text-decoration-color: #008080; font-weight: bold\">0</span>.,  <span style=\"color: #808000; text-decoration-color: #808000\">...</span>, <span style=\"color: #008080; text-decoration-color: #008080; font-weight: bold\">0</span>., <span style=\"color: #008080; text-decoration-color: #008080; font-weight: bold\">0</span>., <span style=\"color: #008080; text-decoration-color: #008080; font-weight: bold\">0</span>.<span style=\"font-weight: bold\">]</span>,\n",
       "          <span style=\"color: #808000; text-decoration-color: #808000\">...</span>,\n",
       "          <span style=\"font-weight: bold\">[</span><span style=\"color: #008080; text-decoration-color: #008080; font-weight: bold\">0</span>., <span style=\"color: #008080; text-decoration-color: #008080; font-weight: bold\">0</span>., <span style=\"color: #008080; text-decoration-color: #008080; font-weight: bold\">0</span>.,  <span style=\"color: #808000; text-decoration-color: #808000\">...</span>, <span style=\"color: #008080; text-decoration-color: #008080; font-weight: bold\">0</span>., <span style=\"color: #008080; text-decoration-color: #008080; font-weight: bold\">0</span>., <span style=\"color: #008080; text-decoration-color: #008080; font-weight: bold\">0</span>.<span style=\"font-weight: bold\">]</span>,\n",
       "          <span style=\"font-weight: bold\">[</span><span style=\"color: #008080; text-decoration-color: #008080; font-weight: bold\">0</span>., <span style=\"color: #008080; text-decoration-color: #008080; font-weight: bold\">0</span>., <span style=\"color: #008080; text-decoration-color: #008080; font-weight: bold\">0</span>.,  <span style=\"color: #808000; text-decoration-color: #808000\">...</span>, <span style=\"color: #008080; text-decoration-color: #008080; font-weight: bold\">0</span>., <span style=\"color: #008080; text-decoration-color: #008080; font-weight: bold\">0</span>., <span style=\"color: #008080; text-decoration-color: #008080; font-weight: bold\">0</span>.<span style=\"font-weight: bold\">]</span>,\n",
       "          <span style=\"font-weight: bold\">[</span><span style=\"color: #008080; text-decoration-color: #008080; font-weight: bold\">0</span>., <span style=\"color: #008080; text-decoration-color: #008080; font-weight: bold\">0</span>., <span style=\"color: #008080; text-decoration-color: #008080; font-weight: bold\">0</span>.,  <span style=\"color: #808000; text-decoration-color: #808000\">...</span>, <span style=\"color: #008080; text-decoration-color: #008080; font-weight: bold\">0</span>., <span style=\"color: #008080; text-decoration-color: #008080; font-weight: bold\">0</span>., <span style=\"color: #008080; text-decoration-color: #008080; font-weight: bold\">0</span>.<span style=\"font-weight: bold\">]]</span>,\n",
       "\n",
       "         <span style=\"font-weight: bold\">[[</span><span style=\"color: #008080; text-decoration-color: #008080; font-weight: bold\">0</span>., <span style=\"color: #008080; text-decoration-color: #008080; font-weight: bold\">0</span>., <span style=\"color: #008080; text-decoration-color: #008080; font-weight: bold\">0</span>.,  <span style=\"color: #808000; text-decoration-color: #808000\">...</span>, <span style=\"color: #008080; text-decoration-color: #008080; font-weight: bold\">0</span>., <span style=\"color: #008080; text-decoration-color: #008080; font-weight: bold\">0</span>., <span style=\"color: #008080; text-decoration-color: #008080; font-weight: bold\">0</span>.<span style=\"font-weight: bold\">]</span>,\n",
       "          <span style=\"font-weight: bold\">[</span><span style=\"color: #008080; text-decoration-color: #008080; font-weight: bold\">0</span>., <span style=\"color: #008080; text-decoration-color: #008080; font-weight: bold\">0</span>., <span style=\"color: #008080; text-decoration-color: #008080; font-weight: bold\">0</span>.,  <span style=\"color: #808000; text-decoration-color: #808000\">...</span>, <span style=\"color: #008080; text-decoration-color: #008080; font-weight: bold\">0</span>., <span style=\"color: #008080; text-decoration-color: #008080; font-weight: bold\">0</span>., <span style=\"color: #008080; text-decoration-color: #008080; font-weight: bold\">0</span>.<span style=\"font-weight: bold\">]</span>,\n",
       "          <span style=\"font-weight: bold\">[</span><span style=\"color: #008080; text-decoration-color: #008080; font-weight: bold\">0</span>., <span style=\"color: #008080; text-decoration-color: #008080; font-weight: bold\">0</span>., <span style=\"color: #008080; text-decoration-color: #008080; font-weight: bold\">0</span>.,  <span style=\"color: #808000; text-decoration-color: #808000\">...</span>, <span style=\"color: #008080; text-decoration-color: #008080; font-weight: bold\">0</span>., <span style=\"color: #008080; text-decoration-color: #008080; font-weight: bold\">0</span>., <span style=\"color: #008080; text-decoration-color: #008080; font-weight: bold\">0</span>.<span style=\"font-weight: bold\">]</span>,\n",
       "          <span style=\"color: #808000; text-decoration-color: #808000\">...</span>,\n",
       "          <span style=\"font-weight: bold\">[</span><span style=\"color: #008080; text-decoration-color: #008080; font-weight: bold\">0</span>., <span style=\"color: #008080; text-decoration-color: #008080; font-weight: bold\">0</span>., <span style=\"color: #008080; text-decoration-color: #008080; font-weight: bold\">0</span>.,  <span style=\"color: #808000; text-decoration-color: #808000\">...</span>, <span style=\"color: #008080; text-decoration-color: #008080; font-weight: bold\">0</span>., <span style=\"color: #008080; text-decoration-color: #008080; font-weight: bold\">0</span>., <span style=\"color: #008080; text-decoration-color: #008080; font-weight: bold\">0</span>.<span style=\"font-weight: bold\">]</span>,\n",
       "          <span style=\"font-weight: bold\">[</span><span style=\"color: #008080; text-decoration-color: #008080; font-weight: bold\">0</span>., <span style=\"color: #008080; text-decoration-color: #008080; font-weight: bold\">0</span>., <span style=\"color: #008080; text-decoration-color: #008080; font-weight: bold\">0</span>.,  <span style=\"color: #808000; text-decoration-color: #808000\">...</span>, <span style=\"color: #008080; text-decoration-color: #008080; font-weight: bold\">0</span>., <span style=\"color: #008080; text-decoration-color: #008080; font-weight: bold\">0</span>., <span style=\"color: #008080; text-decoration-color: #008080; font-weight: bold\">0</span>.<span style=\"font-weight: bold\">]</span>,\n",
       "          <span style=\"font-weight: bold\">[</span><span style=\"color: #008080; text-decoration-color: #008080; font-weight: bold\">0</span>., <span style=\"color: #008080; text-decoration-color: #008080; font-weight: bold\">0</span>., <span style=\"color: #008080; text-decoration-color: #008080; font-weight: bold\">0</span>.,  <span style=\"color: #808000; text-decoration-color: #808000\">...</span>, <span style=\"color: #008080; text-decoration-color: #008080; font-weight: bold\">0</span>., <span style=\"color: #008080; text-decoration-color: #008080; font-weight: bold\">0</span>., <span style=\"color: #008080; text-decoration-color: #008080; font-weight: bold\">0</span>.<span style=\"font-weight: bold\">]]</span>,\n",
       "\n",
       "         <span style=\"font-weight: bold\">[[</span><span style=\"color: #008080; text-decoration-color: #008080; font-weight: bold\">0</span>., <span style=\"color: #008080; text-decoration-color: #008080; font-weight: bold\">0</span>., <span style=\"color: #008080; text-decoration-color: #008080; font-weight: bold\">0</span>.,  <span style=\"color: #808000; text-decoration-color: #808000\">...</span>, <span style=\"color: #008080; text-decoration-color: #008080; font-weight: bold\">0</span>., <span style=\"color: #008080; text-decoration-color: #008080; font-weight: bold\">0</span>., <span style=\"color: #008080; text-decoration-color: #008080; font-weight: bold\">0</span>.<span style=\"font-weight: bold\">]</span>,\n",
       "          <span style=\"font-weight: bold\">[</span><span style=\"color: #008080; text-decoration-color: #008080; font-weight: bold\">0</span>., <span style=\"color: #008080; text-decoration-color: #008080; font-weight: bold\">0</span>., <span style=\"color: #008080; text-decoration-color: #008080; font-weight: bold\">0</span>.,  <span style=\"color: #808000; text-decoration-color: #808000\">...</span>, <span style=\"color: #008080; text-decoration-color: #008080; font-weight: bold\">0</span>., <span style=\"color: #008080; text-decoration-color: #008080; font-weight: bold\">0</span>., <span style=\"color: #008080; text-decoration-color: #008080; font-weight: bold\">0</span>.<span style=\"font-weight: bold\">]</span>,\n",
       "          <span style=\"font-weight: bold\">[</span><span style=\"color: #008080; text-decoration-color: #008080; font-weight: bold\">0</span>., <span style=\"color: #008080; text-decoration-color: #008080; font-weight: bold\">0</span>., <span style=\"color: #008080; text-decoration-color: #008080; font-weight: bold\">0</span>.,  <span style=\"color: #808000; text-decoration-color: #808000\">...</span>, <span style=\"color: #008080; text-decoration-color: #008080; font-weight: bold\">0</span>., <span style=\"color: #008080; text-decoration-color: #008080; font-weight: bold\">0</span>., <span style=\"color: #008080; text-decoration-color: #008080; font-weight: bold\">0</span>.<span style=\"font-weight: bold\">]</span>,\n",
       "          <span style=\"color: #808000; text-decoration-color: #808000\">...</span>,\n",
       "          <span style=\"font-weight: bold\">[</span><span style=\"color: #008080; text-decoration-color: #008080; font-weight: bold\">0</span>., <span style=\"color: #008080; text-decoration-color: #008080; font-weight: bold\">0</span>., <span style=\"color: #008080; text-decoration-color: #008080; font-weight: bold\">0</span>.,  <span style=\"color: #808000; text-decoration-color: #808000\">...</span>, <span style=\"color: #008080; text-decoration-color: #008080; font-weight: bold\">0</span>., <span style=\"color: #008080; text-decoration-color: #008080; font-weight: bold\">0</span>., <span style=\"color: #008080; text-decoration-color: #008080; font-weight: bold\">0</span>.<span style=\"font-weight: bold\">]</span>,\n",
       "          <span style=\"font-weight: bold\">[</span><span style=\"color: #008080; text-decoration-color: #008080; font-weight: bold\">0</span>., <span style=\"color: #008080; text-decoration-color: #008080; font-weight: bold\">0</span>., <span style=\"color: #008080; text-decoration-color: #008080; font-weight: bold\">0</span>.,  <span style=\"color: #808000; text-decoration-color: #808000\">...</span>, <span style=\"color: #008080; text-decoration-color: #008080; font-weight: bold\">0</span>., <span style=\"color: #008080; text-decoration-color: #008080; font-weight: bold\">0</span>., <span style=\"color: #008080; text-decoration-color: #008080; font-weight: bold\">0</span>.<span style=\"font-weight: bold\">]</span>,\n",
       "          <span style=\"font-weight: bold\">[</span><span style=\"color: #008080; text-decoration-color: #008080; font-weight: bold\">0</span>., <span style=\"color: #008080; text-decoration-color: #008080; font-weight: bold\">0</span>., <span style=\"color: #008080; text-decoration-color: #008080; font-weight: bold\">0</span>.,  <span style=\"color: #808000; text-decoration-color: #808000\">...</span>, <span style=\"color: #008080; text-decoration-color: #008080; font-weight: bold\">0</span>., <span style=\"color: #008080; text-decoration-color: #008080; font-weight: bold\">0</span>., <span style=\"color: #008080; text-decoration-color: #008080; font-weight: bold\">0</span>.<span style=\"font-weight: bold\">]]]]</span>, <span style=\"color: #808000; text-decoration-color: #808000\">device</span>=<span style=\"color: #008000; text-decoration-color: #008000\">'cuda:0'</span>,\n",
       "       <span style=\"color: #808000; text-decoration-color: #808000\">dtype</span>=<span style=\"color: #800080; text-decoration-color: #800080\">torch</span>.float64<span style=\"font-weight: bold\">)</span>,\n",
       "    <span style=\"color: #008000; text-decoration-color: #008000\">'label'</span>: <span style=\"color: #800080; text-decoration-color: #800080; font-weight: bold\">tensor</span><span style=\"font-weight: bold\">([[[[</span><span style=\"color: #008080; text-decoration-color: #008080; font-weight: bold\">0</span>., <span style=\"color: #008080; text-decoration-color: #008080; font-weight: bold\">0</span>., <span style=\"color: #008080; text-decoration-color: #008080; font-weight: bold\">0</span>.,  <span style=\"color: #808000; text-decoration-color: #808000\">...</span>, <span style=\"color: #008080; text-decoration-color: #008080; font-weight: bold\">0</span>., <span style=\"color: #008080; text-decoration-color: #008080; font-weight: bold\">0</span>., <span style=\"color: #008080; text-decoration-color: #008080; font-weight: bold\">0</span>.<span style=\"font-weight: bold\">]</span>,\n",
       "          <span style=\"font-weight: bold\">[</span><span style=\"color: #008080; text-decoration-color: #008080; font-weight: bold\">0</span>., <span style=\"color: #008080; text-decoration-color: #008080; font-weight: bold\">0</span>., <span style=\"color: #008080; text-decoration-color: #008080; font-weight: bold\">0</span>.,  <span style=\"color: #808000; text-decoration-color: #808000\">...</span>, <span style=\"color: #008080; text-decoration-color: #008080; font-weight: bold\">0</span>., <span style=\"color: #008080; text-decoration-color: #008080; font-weight: bold\">0</span>., <span style=\"color: #008080; text-decoration-color: #008080; font-weight: bold\">0</span>.<span style=\"font-weight: bold\">]</span>,\n",
       "          <span style=\"font-weight: bold\">[</span><span style=\"color: #008080; text-decoration-color: #008080; font-weight: bold\">0</span>., <span style=\"color: #008080; text-decoration-color: #008080; font-weight: bold\">0</span>., <span style=\"color: #008080; text-decoration-color: #008080; font-weight: bold\">0</span>.,  <span style=\"color: #808000; text-decoration-color: #808000\">...</span>, <span style=\"color: #008080; text-decoration-color: #008080; font-weight: bold\">0</span>., <span style=\"color: #008080; text-decoration-color: #008080; font-weight: bold\">0</span>., <span style=\"color: #008080; text-decoration-color: #008080; font-weight: bold\">0</span>.<span style=\"font-weight: bold\">]</span>,\n",
       "          <span style=\"color: #808000; text-decoration-color: #808000\">...</span>,\n",
       "          <span style=\"font-weight: bold\">[</span><span style=\"color: #008080; text-decoration-color: #008080; font-weight: bold\">0</span>., <span style=\"color: #008080; text-decoration-color: #008080; font-weight: bold\">0</span>., <span style=\"color: #008080; text-decoration-color: #008080; font-weight: bold\">0</span>.,  <span style=\"color: #808000; text-decoration-color: #808000\">...</span>, <span style=\"color: #008080; text-decoration-color: #008080; font-weight: bold\">0</span>., <span style=\"color: #008080; text-decoration-color: #008080; font-weight: bold\">0</span>., <span style=\"color: #008080; text-decoration-color: #008080; font-weight: bold\">0</span>.<span style=\"font-weight: bold\">]</span>,\n",
       "          <span style=\"font-weight: bold\">[</span><span style=\"color: #008080; text-decoration-color: #008080; font-weight: bold\">0</span>., <span style=\"color: #008080; text-decoration-color: #008080; font-weight: bold\">0</span>., <span style=\"color: #008080; text-decoration-color: #008080; font-weight: bold\">0</span>.,  <span style=\"color: #808000; text-decoration-color: #808000\">...</span>, <span style=\"color: #008080; text-decoration-color: #008080; font-weight: bold\">0</span>., <span style=\"color: #008080; text-decoration-color: #008080; font-weight: bold\">0</span>., <span style=\"color: #008080; text-decoration-color: #008080; font-weight: bold\">0</span>.<span style=\"font-weight: bold\">]</span>,\n",
       "          <span style=\"font-weight: bold\">[</span><span style=\"color: #008080; text-decoration-color: #008080; font-weight: bold\">0</span>., <span style=\"color: #008080; text-decoration-color: #008080; font-weight: bold\">0</span>., <span style=\"color: #008080; text-decoration-color: #008080; font-weight: bold\">0</span>.,  <span style=\"color: #808000; text-decoration-color: #808000\">...</span>, <span style=\"color: #008080; text-decoration-color: #008080; font-weight: bold\">0</span>., <span style=\"color: #008080; text-decoration-color: #008080; font-weight: bold\">0</span>., <span style=\"color: #008080; text-decoration-color: #008080; font-weight: bold\">0</span>.<span style=\"font-weight: bold\">]]</span>,\n",
       "\n",
       "         <span style=\"font-weight: bold\">[[</span><span style=\"color: #008080; text-decoration-color: #008080; font-weight: bold\">0</span>., <span style=\"color: #008080; text-decoration-color: #008080; font-weight: bold\">0</span>., <span style=\"color: #008080; text-decoration-color: #008080; font-weight: bold\">0</span>.,  <span style=\"color: #808000; text-decoration-color: #808000\">...</span>, <span style=\"color: #008080; text-decoration-color: #008080; font-weight: bold\">0</span>., <span style=\"color: #008080; text-decoration-color: #008080; font-weight: bold\">0</span>., <span style=\"color: #008080; text-decoration-color: #008080; font-weight: bold\">0</span>.<span style=\"font-weight: bold\">]</span>,\n",
       "          <span style=\"font-weight: bold\">[</span><span style=\"color: #008080; text-decoration-color: #008080; font-weight: bold\">0</span>., <span style=\"color: #008080; text-decoration-color: #008080; font-weight: bold\">0</span>., <span style=\"color: #008080; text-decoration-color: #008080; font-weight: bold\">0</span>.,  <span style=\"color: #808000; text-decoration-color: #808000\">...</span>, <span style=\"color: #008080; text-decoration-color: #008080; font-weight: bold\">0</span>., <span style=\"color: #008080; text-decoration-color: #008080; font-weight: bold\">0</span>., <span style=\"color: #008080; text-decoration-color: #008080; font-weight: bold\">0</span>.<span style=\"font-weight: bold\">]</span>,\n",
       "          <span style=\"font-weight: bold\">[</span><span style=\"color: #008080; text-decoration-color: #008080; font-weight: bold\">0</span>., <span style=\"color: #008080; text-decoration-color: #008080; font-weight: bold\">0</span>., <span style=\"color: #008080; text-decoration-color: #008080; font-weight: bold\">0</span>.,  <span style=\"color: #808000; text-decoration-color: #808000\">...</span>, <span style=\"color: #008080; text-decoration-color: #008080; font-weight: bold\">0</span>., <span style=\"color: #008080; text-decoration-color: #008080; font-weight: bold\">0</span>., <span style=\"color: #008080; text-decoration-color: #008080; font-weight: bold\">0</span>.<span style=\"font-weight: bold\">]</span>,\n",
       "          <span style=\"color: #808000; text-decoration-color: #808000\">...</span>,\n",
       "          <span style=\"font-weight: bold\">[</span><span style=\"color: #008080; text-decoration-color: #008080; font-weight: bold\">0</span>., <span style=\"color: #008080; text-decoration-color: #008080; font-weight: bold\">0</span>., <span style=\"color: #008080; text-decoration-color: #008080; font-weight: bold\">0</span>.,  <span style=\"color: #808000; text-decoration-color: #808000\">...</span>, <span style=\"color: #008080; text-decoration-color: #008080; font-weight: bold\">0</span>., <span style=\"color: #008080; text-decoration-color: #008080; font-weight: bold\">0</span>., <span style=\"color: #008080; text-decoration-color: #008080; font-weight: bold\">0</span>.<span style=\"font-weight: bold\">]</span>,\n",
       "          <span style=\"font-weight: bold\">[</span><span style=\"color: #008080; text-decoration-color: #008080; font-weight: bold\">0</span>., <span style=\"color: #008080; text-decoration-color: #008080; font-weight: bold\">0</span>., <span style=\"color: #008080; text-decoration-color: #008080; font-weight: bold\">0</span>.,  <span style=\"color: #808000; text-decoration-color: #808000\">...</span>, <span style=\"color: #008080; text-decoration-color: #008080; font-weight: bold\">0</span>., <span style=\"color: #008080; text-decoration-color: #008080; font-weight: bold\">0</span>., <span style=\"color: #008080; text-decoration-color: #008080; font-weight: bold\">0</span>.<span style=\"font-weight: bold\">]</span>,\n",
       "          <span style=\"font-weight: bold\">[</span><span style=\"color: #008080; text-decoration-color: #008080; font-weight: bold\">0</span>., <span style=\"color: #008080; text-decoration-color: #008080; font-weight: bold\">0</span>., <span style=\"color: #008080; text-decoration-color: #008080; font-weight: bold\">0</span>.,  <span style=\"color: #808000; text-decoration-color: #808000\">...</span>, <span style=\"color: #008080; text-decoration-color: #008080; font-weight: bold\">0</span>., <span style=\"color: #008080; text-decoration-color: #008080; font-weight: bold\">0</span>., <span style=\"color: #008080; text-decoration-color: #008080; font-weight: bold\">0</span>.<span style=\"font-weight: bold\">]]</span>,\n",
       "\n",
       "         <span style=\"font-weight: bold\">[[</span><span style=\"color: #008080; text-decoration-color: #008080; font-weight: bold\">0</span>., <span style=\"color: #008080; text-decoration-color: #008080; font-weight: bold\">0</span>., <span style=\"color: #008080; text-decoration-color: #008080; font-weight: bold\">0</span>.,  <span style=\"color: #808000; text-decoration-color: #808000\">...</span>, <span style=\"color: #008080; text-decoration-color: #008080; font-weight: bold\">0</span>., <span style=\"color: #008080; text-decoration-color: #008080; font-weight: bold\">0</span>., <span style=\"color: #008080; text-decoration-color: #008080; font-weight: bold\">0</span>.<span style=\"font-weight: bold\">]</span>,\n",
       "          <span style=\"font-weight: bold\">[</span><span style=\"color: #008080; text-decoration-color: #008080; font-weight: bold\">0</span>., <span style=\"color: #008080; text-decoration-color: #008080; font-weight: bold\">0</span>., <span style=\"color: #008080; text-decoration-color: #008080; font-weight: bold\">0</span>.,  <span style=\"color: #808000; text-decoration-color: #808000\">...</span>, <span style=\"color: #008080; text-decoration-color: #008080; font-weight: bold\">0</span>., <span style=\"color: #008080; text-decoration-color: #008080; font-weight: bold\">0</span>., <span style=\"color: #008080; text-decoration-color: #008080; font-weight: bold\">0</span>.<span style=\"font-weight: bold\">]</span>,\n",
       "          <span style=\"font-weight: bold\">[</span><span style=\"color: #008080; text-decoration-color: #008080; font-weight: bold\">0</span>., <span style=\"color: #008080; text-decoration-color: #008080; font-weight: bold\">0</span>., <span style=\"color: #008080; text-decoration-color: #008080; font-weight: bold\">0</span>.,  <span style=\"color: #808000; text-decoration-color: #808000\">...</span>, <span style=\"color: #008080; text-decoration-color: #008080; font-weight: bold\">0</span>., <span style=\"color: #008080; text-decoration-color: #008080; font-weight: bold\">0</span>., <span style=\"color: #008080; text-decoration-color: #008080; font-weight: bold\">0</span>.<span style=\"font-weight: bold\">]</span>,\n",
       "          <span style=\"color: #808000; text-decoration-color: #808000\">...</span>,\n",
       "          <span style=\"font-weight: bold\">[</span><span style=\"color: #008080; text-decoration-color: #008080; font-weight: bold\">0</span>., <span style=\"color: #008080; text-decoration-color: #008080; font-weight: bold\">0</span>., <span style=\"color: #008080; text-decoration-color: #008080; font-weight: bold\">0</span>.,  <span style=\"color: #808000; text-decoration-color: #808000\">...</span>, <span style=\"color: #008080; text-decoration-color: #008080; font-weight: bold\">0</span>., <span style=\"color: #008080; text-decoration-color: #008080; font-weight: bold\">0</span>., <span style=\"color: #008080; text-decoration-color: #008080; font-weight: bold\">0</span>.<span style=\"font-weight: bold\">]</span>,\n",
       "          <span style=\"font-weight: bold\">[</span><span style=\"color: #008080; text-decoration-color: #008080; font-weight: bold\">0</span>., <span style=\"color: #008080; text-decoration-color: #008080; font-weight: bold\">0</span>., <span style=\"color: #008080; text-decoration-color: #008080; font-weight: bold\">0</span>.,  <span style=\"color: #808000; text-decoration-color: #808000\">...</span>, <span style=\"color: #008080; text-decoration-color: #008080; font-weight: bold\">0</span>., <span style=\"color: #008080; text-decoration-color: #008080; font-weight: bold\">0</span>., <span style=\"color: #008080; text-decoration-color: #008080; font-weight: bold\">0</span>.<span style=\"font-weight: bold\">]</span>,\n",
       "          <span style=\"font-weight: bold\">[</span><span style=\"color: #008080; text-decoration-color: #008080; font-weight: bold\">0</span>., <span style=\"color: #008080; text-decoration-color: #008080; font-weight: bold\">0</span>., <span style=\"color: #008080; text-decoration-color: #008080; font-weight: bold\">0</span>.,  <span style=\"color: #808000; text-decoration-color: #808000\">...</span>, <span style=\"color: #008080; text-decoration-color: #008080; font-weight: bold\">0</span>., <span style=\"color: #008080; text-decoration-color: #008080; font-weight: bold\">0</span>., <span style=\"color: #008080; text-decoration-color: #008080; font-weight: bold\">0</span>.<span style=\"font-weight: bold\">]]]]</span>, <span style=\"color: #808000; text-decoration-color: #808000\">device</span>=<span style=\"color: #008000; text-decoration-color: #008000\">'cuda:0'</span>,\n",
       "       <span style=\"color: #808000; text-decoration-color: #808000\">dtype</span>=<span style=\"color: #800080; text-decoration-color: #800080\">torch</span>.float64<span style=\"font-weight: bold\">)</span>,\n",
       "    <span style=\"color: #008000; text-decoration-color: #008000\">'h'</span>: <span style=\"color: #800080; text-decoration-color: #800080; font-weight: bold\">tensor</span><span style=\"font-weight: bold\">([</span><span style=\"color: #008080; text-decoration-color: #008080; font-weight: bold\">0.6702</span><span style=\"font-weight: bold\">]</span>, <span style=\"color: #808000; text-decoration-color: #808000\">dtype</span>=<span style=\"color: #800080; text-decoration-color: #800080\">torch</span>.float64<span style=\"font-weight: bold\">)</span>\n",
       "<span style=\"font-weight: bold\">}</span>\n",
       "</pre>\n"
      ],
      "text/plain": [
       "\u001b[1m{\u001b[0m\n",
       "    \u001b[32m'image'\u001b[0m: \u001b[1;35mtensor\u001b[0m\u001b[1m(\u001b[0m\u001b[1m[\u001b[0m\u001b[1m[\u001b[0m\u001b[1m[\u001b[0m\u001b[1m[\u001b[0m\u001b[1;36m0\u001b[0m., \u001b[1;36m0\u001b[0m., \u001b[1;36m0\u001b[0m.,  \u001b[33m...\u001b[0m, \u001b[1;36m0\u001b[0m., \u001b[1;36m0\u001b[0m., \u001b[1;36m0\u001b[0m.\u001b[1m]\u001b[0m,\n",
       "          \u001b[1m[\u001b[0m\u001b[1;36m0\u001b[0m., \u001b[1;36m0\u001b[0m., \u001b[1;36m0\u001b[0m.,  \u001b[33m...\u001b[0m, \u001b[1;36m0\u001b[0m., \u001b[1;36m0\u001b[0m., \u001b[1;36m0\u001b[0m.\u001b[1m]\u001b[0m,\n",
       "          \u001b[1m[\u001b[0m\u001b[1;36m0\u001b[0m., \u001b[1;36m0\u001b[0m., \u001b[1;36m0\u001b[0m.,  \u001b[33m...\u001b[0m, \u001b[1;36m0\u001b[0m., \u001b[1;36m0\u001b[0m., \u001b[1;36m0\u001b[0m.\u001b[1m]\u001b[0m,\n",
       "          \u001b[33m...\u001b[0m,\n",
       "          \u001b[1m[\u001b[0m\u001b[1;36m0\u001b[0m., \u001b[1;36m0\u001b[0m., \u001b[1;36m0\u001b[0m.,  \u001b[33m...\u001b[0m, \u001b[1;36m0\u001b[0m., \u001b[1;36m0\u001b[0m., \u001b[1;36m0\u001b[0m.\u001b[1m]\u001b[0m,\n",
       "          \u001b[1m[\u001b[0m\u001b[1;36m0\u001b[0m., \u001b[1;36m0\u001b[0m., \u001b[1;36m0\u001b[0m.,  \u001b[33m...\u001b[0m, \u001b[1;36m0\u001b[0m., \u001b[1;36m0\u001b[0m., \u001b[1;36m0\u001b[0m.\u001b[1m]\u001b[0m,\n",
       "          \u001b[1m[\u001b[0m\u001b[1;36m0\u001b[0m., \u001b[1;36m0\u001b[0m., \u001b[1;36m0\u001b[0m.,  \u001b[33m...\u001b[0m, \u001b[1;36m0\u001b[0m., \u001b[1;36m0\u001b[0m., \u001b[1;36m0\u001b[0m.\u001b[1m]\u001b[0m\u001b[1m]\u001b[0m,\n",
       "\n",
       "         \u001b[1m[\u001b[0m\u001b[1m[\u001b[0m\u001b[1;36m0\u001b[0m., \u001b[1;36m0\u001b[0m., \u001b[1;36m0\u001b[0m.,  \u001b[33m...\u001b[0m, \u001b[1;36m0\u001b[0m., \u001b[1;36m0\u001b[0m., \u001b[1;36m0\u001b[0m.\u001b[1m]\u001b[0m,\n",
       "          \u001b[1m[\u001b[0m\u001b[1;36m0\u001b[0m., \u001b[1;36m0\u001b[0m., \u001b[1;36m0\u001b[0m.,  \u001b[33m...\u001b[0m, \u001b[1;36m0\u001b[0m., \u001b[1;36m0\u001b[0m., \u001b[1;36m0\u001b[0m.\u001b[1m]\u001b[0m,\n",
       "          \u001b[1m[\u001b[0m\u001b[1;36m0\u001b[0m., \u001b[1;36m0\u001b[0m., \u001b[1;36m0\u001b[0m.,  \u001b[33m...\u001b[0m, \u001b[1;36m0\u001b[0m., \u001b[1;36m0\u001b[0m., \u001b[1;36m0\u001b[0m.\u001b[1m]\u001b[0m,\n",
       "          \u001b[33m...\u001b[0m,\n",
       "          \u001b[1m[\u001b[0m\u001b[1;36m0\u001b[0m., \u001b[1;36m0\u001b[0m., \u001b[1;36m0\u001b[0m.,  \u001b[33m...\u001b[0m, \u001b[1;36m0\u001b[0m., \u001b[1;36m0\u001b[0m., \u001b[1;36m0\u001b[0m.\u001b[1m]\u001b[0m,\n",
       "          \u001b[1m[\u001b[0m\u001b[1;36m0\u001b[0m., \u001b[1;36m0\u001b[0m., \u001b[1;36m0\u001b[0m.,  \u001b[33m...\u001b[0m, \u001b[1;36m0\u001b[0m., \u001b[1;36m0\u001b[0m., \u001b[1;36m0\u001b[0m.\u001b[1m]\u001b[0m,\n",
       "          \u001b[1m[\u001b[0m\u001b[1;36m0\u001b[0m., \u001b[1;36m0\u001b[0m., \u001b[1;36m0\u001b[0m.,  \u001b[33m...\u001b[0m, \u001b[1;36m0\u001b[0m., \u001b[1;36m0\u001b[0m., \u001b[1;36m0\u001b[0m.\u001b[1m]\u001b[0m\u001b[1m]\u001b[0m,\n",
       "\n",
       "         \u001b[1m[\u001b[0m\u001b[1m[\u001b[0m\u001b[1;36m0\u001b[0m., \u001b[1;36m0\u001b[0m., \u001b[1;36m0\u001b[0m.,  \u001b[33m...\u001b[0m, \u001b[1;36m0\u001b[0m., \u001b[1;36m0\u001b[0m., \u001b[1;36m0\u001b[0m.\u001b[1m]\u001b[0m,\n",
       "          \u001b[1m[\u001b[0m\u001b[1;36m0\u001b[0m., \u001b[1;36m0\u001b[0m., \u001b[1;36m0\u001b[0m.,  \u001b[33m...\u001b[0m, \u001b[1;36m0\u001b[0m., \u001b[1;36m0\u001b[0m., \u001b[1;36m0\u001b[0m.\u001b[1m]\u001b[0m,\n",
       "          \u001b[1m[\u001b[0m\u001b[1;36m0\u001b[0m., \u001b[1;36m0\u001b[0m., \u001b[1;36m0\u001b[0m.,  \u001b[33m...\u001b[0m, \u001b[1;36m0\u001b[0m., \u001b[1;36m0\u001b[0m., \u001b[1;36m0\u001b[0m.\u001b[1m]\u001b[0m,\n",
       "          \u001b[33m...\u001b[0m,\n",
       "          \u001b[1m[\u001b[0m\u001b[1;36m0\u001b[0m., \u001b[1;36m0\u001b[0m., \u001b[1;36m0\u001b[0m.,  \u001b[33m...\u001b[0m, \u001b[1;36m0\u001b[0m., \u001b[1;36m0\u001b[0m., \u001b[1;36m0\u001b[0m.\u001b[1m]\u001b[0m,\n",
       "          \u001b[1m[\u001b[0m\u001b[1;36m0\u001b[0m., \u001b[1;36m0\u001b[0m., \u001b[1;36m0\u001b[0m.,  \u001b[33m...\u001b[0m, \u001b[1;36m0\u001b[0m., \u001b[1;36m0\u001b[0m., \u001b[1;36m0\u001b[0m.\u001b[1m]\u001b[0m,\n",
       "          \u001b[1m[\u001b[0m\u001b[1;36m0\u001b[0m., \u001b[1;36m0\u001b[0m., \u001b[1;36m0\u001b[0m.,  \u001b[33m...\u001b[0m, \u001b[1;36m0\u001b[0m., \u001b[1;36m0\u001b[0m., \u001b[1;36m0\u001b[0m.\u001b[1m]\u001b[0m\u001b[1m]\u001b[0m\u001b[1m]\u001b[0m\u001b[1m]\u001b[0m, \u001b[33mdevice\u001b[0m=\u001b[32m'cuda:0'\u001b[0m,\n",
       "       \u001b[33mdtype\u001b[0m=\u001b[35mtorch\u001b[0m.float64\u001b[1m)\u001b[0m,\n",
       "    \u001b[32m'label'\u001b[0m: \u001b[1;35mtensor\u001b[0m\u001b[1m(\u001b[0m\u001b[1m[\u001b[0m\u001b[1m[\u001b[0m\u001b[1m[\u001b[0m\u001b[1m[\u001b[0m\u001b[1;36m0\u001b[0m., \u001b[1;36m0\u001b[0m., \u001b[1;36m0\u001b[0m.,  \u001b[33m...\u001b[0m, \u001b[1;36m0\u001b[0m., \u001b[1;36m0\u001b[0m., \u001b[1;36m0\u001b[0m.\u001b[1m]\u001b[0m,\n",
       "          \u001b[1m[\u001b[0m\u001b[1;36m0\u001b[0m., \u001b[1;36m0\u001b[0m., \u001b[1;36m0\u001b[0m.,  \u001b[33m...\u001b[0m, \u001b[1;36m0\u001b[0m., \u001b[1;36m0\u001b[0m., \u001b[1;36m0\u001b[0m.\u001b[1m]\u001b[0m,\n",
       "          \u001b[1m[\u001b[0m\u001b[1;36m0\u001b[0m., \u001b[1;36m0\u001b[0m., \u001b[1;36m0\u001b[0m.,  \u001b[33m...\u001b[0m, \u001b[1;36m0\u001b[0m., \u001b[1;36m0\u001b[0m., \u001b[1;36m0\u001b[0m.\u001b[1m]\u001b[0m,\n",
       "          \u001b[33m...\u001b[0m,\n",
       "          \u001b[1m[\u001b[0m\u001b[1;36m0\u001b[0m., \u001b[1;36m0\u001b[0m., \u001b[1;36m0\u001b[0m.,  \u001b[33m...\u001b[0m, \u001b[1;36m0\u001b[0m., \u001b[1;36m0\u001b[0m., \u001b[1;36m0\u001b[0m.\u001b[1m]\u001b[0m,\n",
       "          \u001b[1m[\u001b[0m\u001b[1;36m0\u001b[0m., \u001b[1;36m0\u001b[0m., \u001b[1;36m0\u001b[0m.,  \u001b[33m...\u001b[0m, \u001b[1;36m0\u001b[0m., \u001b[1;36m0\u001b[0m., \u001b[1;36m0\u001b[0m.\u001b[1m]\u001b[0m,\n",
       "          \u001b[1m[\u001b[0m\u001b[1;36m0\u001b[0m., \u001b[1;36m0\u001b[0m., \u001b[1;36m0\u001b[0m.,  \u001b[33m...\u001b[0m, \u001b[1;36m0\u001b[0m., \u001b[1;36m0\u001b[0m., \u001b[1;36m0\u001b[0m.\u001b[1m]\u001b[0m\u001b[1m]\u001b[0m,\n",
       "\n",
       "         \u001b[1m[\u001b[0m\u001b[1m[\u001b[0m\u001b[1;36m0\u001b[0m., \u001b[1;36m0\u001b[0m., \u001b[1;36m0\u001b[0m.,  \u001b[33m...\u001b[0m, \u001b[1;36m0\u001b[0m., \u001b[1;36m0\u001b[0m., \u001b[1;36m0\u001b[0m.\u001b[1m]\u001b[0m,\n",
       "          \u001b[1m[\u001b[0m\u001b[1;36m0\u001b[0m., \u001b[1;36m0\u001b[0m., \u001b[1;36m0\u001b[0m.,  \u001b[33m...\u001b[0m, \u001b[1;36m0\u001b[0m., \u001b[1;36m0\u001b[0m., \u001b[1;36m0\u001b[0m.\u001b[1m]\u001b[0m,\n",
       "          \u001b[1m[\u001b[0m\u001b[1;36m0\u001b[0m., \u001b[1;36m0\u001b[0m., \u001b[1;36m0\u001b[0m.,  \u001b[33m...\u001b[0m, \u001b[1;36m0\u001b[0m., \u001b[1;36m0\u001b[0m., \u001b[1;36m0\u001b[0m.\u001b[1m]\u001b[0m,\n",
       "          \u001b[33m...\u001b[0m,\n",
       "          \u001b[1m[\u001b[0m\u001b[1;36m0\u001b[0m., \u001b[1;36m0\u001b[0m., \u001b[1;36m0\u001b[0m.,  \u001b[33m...\u001b[0m, \u001b[1;36m0\u001b[0m., \u001b[1;36m0\u001b[0m., \u001b[1;36m0\u001b[0m.\u001b[1m]\u001b[0m,\n",
       "          \u001b[1m[\u001b[0m\u001b[1;36m0\u001b[0m., \u001b[1;36m0\u001b[0m., \u001b[1;36m0\u001b[0m.,  \u001b[33m...\u001b[0m, \u001b[1;36m0\u001b[0m., \u001b[1;36m0\u001b[0m., \u001b[1;36m0\u001b[0m.\u001b[1m]\u001b[0m,\n",
       "          \u001b[1m[\u001b[0m\u001b[1;36m0\u001b[0m., \u001b[1;36m0\u001b[0m., \u001b[1;36m0\u001b[0m.,  \u001b[33m...\u001b[0m, \u001b[1;36m0\u001b[0m., \u001b[1;36m0\u001b[0m., \u001b[1;36m0\u001b[0m.\u001b[1m]\u001b[0m\u001b[1m]\u001b[0m,\n",
       "\n",
       "         \u001b[1m[\u001b[0m\u001b[1m[\u001b[0m\u001b[1;36m0\u001b[0m., \u001b[1;36m0\u001b[0m., \u001b[1;36m0\u001b[0m.,  \u001b[33m...\u001b[0m, \u001b[1;36m0\u001b[0m., \u001b[1;36m0\u001b[0m., \u001b[1;36m0\u001b[0m.\u001b[1m]\u001b[0m,\n",
       "          \u001b[1m[\u001b[0m\u001b[1;36m0\u001b[0m., \u001b[1;36m0\u001b[0m., \u001b[1;36m0\u001b[0m.,  \u001b[33m...\u001b[0m, \u001b[1;36m0\u001b[0m., \u001b[1;36m0\u001b[0m., \u001b[1;36m0\u001b[0m.\u001b[1m]\u001b[0m,\n",
       "          \u001b[1m[\u001b[0m\u001b[1;36m0\u001b[0m., \u001b[1;36m0\u001b[0m., \u001b[1;36m0\u001b[0m.,  \u001b[33m...\u001b[0m, \u001b[1;36m0\u001b[0m., \u001b[1;36m0\u001b[0m., \u001b[1;36m0\u001b[0m.\u001b[1m]\u001b[0m,\n",
       "          \u001b[33m...\u001b[0m,\n",
       "          \u001b[1m[\u001b[0m\u001b[1;36m0\u001b[0m., \u001b[1;36m0\u001b[0m., \u001b[1;36m0\u001b[0m.,  \u001b[33m...\u001b[0m, \u001b[1;36m0\u001b[0m., \u001b[1;36m0\u001b[0m., \u001b[1;36m0\u001b[0m.\u001b[1m]\u001b[0m,\n",
       "          \u001b[1m[\u001b[0m\u001b[1;36m0\u001b[0m., \u001b[1;36m0\u001b[0m., \u001b[1;36m0\u001b[0m.,  \u001b[33m...\u001b[0m, \u001b[1;36m0\u001b[0m., \u001b[1;36m0\u001b[0m., \u001b[1;36m0\u001b[0m.\u001b[1m]\u001b[0m,\n",
       "          \u001b[1m[\u001b[0m\u001b[1;36m0\u001b[0m., \u001b[1;36m0\u001b[0m., \u001b[1;36m0\u001b[0m.,  \u001b[33m...\u001b[0m, \u001b[1;36m0\u001b[0m., \u001b[1;36m0\u001b[0m., \u001b[1;36m0\u001b[0m.\u001b[1m]\u001b[0m\u001b[1m]\u001b[0m\u001b[1m]\u001b[0m\u001b[1m]\u001b[0m, \u001b[33mdevice\u001b[0m=\u001b[32m'cuda:0'\u001b[0m,\n",
       "       \u001b[33mdtype\u001b[0m=\u001b[35mtorch\u001b[0m.float64\u001b[1m)\u001b[0m,\n",
       "    \u001b[32m'h'\u001b[0m: \u001b[1;35mtensor\u001b[0m\u001b[1m(\u001b[0m\u001b[1m[\u001b[0m\u001b[1;36m0.6702\u001b[0m\u001b[1m]\u001b[0m, \u001b[33mdtype\u001b[0m=\u001b[35mtorch\u001b[0m.float64\u001b[1m)\u001b[0m\n",
       "\u001b[1m}\u001b[0m\n"
      ]
     },
     "metadata": {},
     "output_type": "display_data"
    },
    {
     "data": {
      "text/html": [
       "<pre style=\"white-space:pre;overflow-x:auto;line-height:normal;font-family:Menlo,'DejaVu Sans Mono',consolas,'Courier New',monospace\"><span style=\"color: #800080; text-decoration-color: #800080; font-weight: bold\">torch.Size</span><span style=\"font-weight: bold\">([</span><span style=\"color: #008080; text-decoration-color: #008080; font-weight: bold\">1</span>, <span style=\"color: #008080; text-decoration-color: #008080; font-weight: bold\">3</span>, <span style=\"color: #008080; text-decoration-color: #008080; font-weight: bold\">1024</span>, <span style=\"color: #008080; text-decoration-color: #008080; font-weight: bold\">1024</span><span style=\"font-weight: bold\">])</span>\n",
       "</pre>\n"
      ],
      "text/plain": [
       "\u001b[1;35mtorch.Size\u001b[0m\u001b[1m(\u001b[0m\u001b[1m[\u001b[0m\u001b[1;36m1\u001b[0m, \u001b[1;36m3\u001b[0m, \u001b[1;36m1024\u001b[0m, \u001b[1;36m1024\u001b[0m\u001b[1m]\u001b[0m\u001b[1m)\u001b[0m\n"
      ]
     },
     "metadata": {},
     "output_type": "display_data"
    }
   ],
   "source": [
    "# get image\n",
    "import rich, cv2\n",
    "import numpy as np\n",
    "from data.dataset import get_dataloader_2d\n",
    "it = get_dataloader_2d(\"validation\", \"naive_to_rgb\", batch_size=1, shuffle=False)\n",
    "res_w = 0\n",
    "res_h = 0\n",
    "for d in it:\n",
    "    res_w = max(res_w, d['image'].shape[2])\n",
    "    res_h = max(res_h, d['image'].shape[3])\n",
    "rich.print(res_w, res_h)\n",
    "it=iter(it)\n",
    "for i in range(64):\n",
    "    d = next(it)\n",
    "rich.print(d)\n",
    "rich.print(d[\"image\"].shape)\n",
    "image = d['image'][0].clone().cpu().numpy()\n",
    "#cv2.imshow('qwq',image.transpose(1, 2, 0))\n",
    "#cv2.waitKey(2000)\n",
    "image = (image*255).transpose(1, 2, 0).astype(np.uint8)"
   ]
  },
  {
   "cell_type": "code",
   "execution_count": 2,
   "metadata": {},
   "outputs": [],
   "source": [
    "#cv2.imshow('qwq',image)\n",
    "#cv2.waitKey(0)\n",
    "#cv2.destroyAllWindows()"
   ]
  },
  {
   "cell_type": "code",
   "execution_count": 3,
   "metadata": {},
   "outputs": [
    {
     "name": "stdout",
     "output_type": "stream",
     "text": [
      "Loading model...\n",
      "Loading encoder...\n"
     ]
    }
   ],
   "source": [
    "#load predicter\n",
    "from utils.predicter import LabelPredicter\n",
    "from modeling.build_sam import sam_with_label_model_registry, build_pretrained_encoder\n",
    "print('Loading model...')\n",
    "sam_with_label, _ = sam_with_label_model_registry['vit_h'](checkpoint=\"checkpoint/extracted.pth\", build_encoder=False)\n",
    "# sam_with_label.to(\"cuda\")\n",
    "# print(sam_with_label.device)\n",
    "print('Loading encoder...')\n",
    "sam_with_label.image_encoder = build_pretrained_encoder(\"vit_h\")\n",
    "# print(type(sam_with_label))\n",
    "predicter = LabelPredicter(sam_with_label)"
   ]
  },
  {
   "cell_type": "code",
   "execution_count": 4,
   "metadata": {},
   "outputs": [
    {
     "name": "stdout",
     "output_type": "stream",
     "text": [
      "Predicting...\n",
      "generating labels...\n",
      "Generating masks...\n",
      "Before filter by IoU: 64\n",
      "IoU predictions: tensor([0.1011, 0.0972, 0.1005, 0.1009, 0.0991, 0.1129, 0.1419, 0.1561, 0.1713,\n",
      "        0.1828, 0.1868, 0.1845, 0.1820, 0.1818, 0.1878, 0.2014, 0.2033, 0.2048,\n",
      "        0.2137, 0.2198, 0.2196, 0.2296, 0.2333, 0.2257, 0.2302, 0.2267, 0.2181,\n",
      "        0.2085, 0.2020, 0.2114, 0.2050, 0.1887, 0.1029, 0.1009, 0.0968, 0.0901,\n",
      "        0.0874, 0.0706, 0.1357, 0.1496, 0.1668, 0.1776, 0.1811, 0.1792, 0.1802,\n",
      "        0.1836, 0.1921, 0.2025, 0.2071, 0.2117, 0.2211, 0.2285, 0.2303, 0.2335,\n",
      "        0.2392, 0.2377, 0.2487, 0.2456, 0.2430, 0.2365, 0.2209, 0.2251, 0.2233,\n",
      "        0.2048])\n",
      "After filter by IoU: 0\n",
      "After filter by stability: 0\n",
      "After filter by touch crop boundaries: 0\n",
      "Before filter by IoU: 64\n",
      "IoU predictions: tensor([0.0999, 0.0876, 0.0824, 0.0753, 0.0201, 0.1542, 0.1093, 0.1305, 0.1492,\n",
      "        0.1614, 0.1605, 0.1563, 0.1590, 0.1657, 0.1758, 0.1946, 0.2011, 0.2060,\n",
      "        0.2209, 0.2233, 0.2234, 0.2310, 0.2368, 0.2352, 0.2531, 0.2573, 0.2562,\n",
      "        0.2461, 0.2293, 0.2233, 0.2280, 0.2182, 0.0953, 0.0844, 0.0798, 0.0719,\n",
      "        0.0590, 0.0226, 0.1021, 0.1255, 0.0694, 0.0976, 0.0854, 0.0806, 0.1507,\n",
      "        0.1244, 0.1589, 0.1882, 0.1898, 0.1953, 0.2153, 0.2222, 0.2238, 0.2323,\n",
      "        0.2348, 0.2309, 0.2485, 0.2605, 0.2626, 0.2526, 0.2329, 0.2238, 0.2316,\n",
      "        0.2245])\n",
      "After filter by IoU: 0\n",
      "After filter by stability: 0\n",
      "After filter by touch crop boundaries: 0\n",
      "Before filter by IoU: 64\n",
      "IoU predictions: tensor([ 0.0914,  0.0831,  0.0829,  0.0622,  0.1053,  0.0773,  0.0926,  0.0634,\n",
      "         0.1060,  0.1430,  0.1346,  0.1341,  0.1209,  0.0918,  0.0610,  0.1352,\n",
      "         0.1773,  0.1928,  0.2131,  0.2186,  0.2204,  0.2297,  0.2335,  0.2310,\n",
      "         0.2410,  0.2571,  0.2646,  0.2573,  0.2360,  0.2311,  0.2390,  0.2319,\n",
      "         0.0892,  0.0812,  0.0780,  0.1837,  0.1063,  0.0645,  0.0822,  0.0831,\n",
      "         0.1072,  0.0996,  0.0508,  0.0769,  0.0735,  0.0737,  0.0431,  0.0123,\n",
      "        -0.0137,  0.1565,  0.2044,  0.2103,  0.2110,  0.2206,  0.2272,  0.2236,\n",
      "         0.2311,  0.2492,  0.2651,  0.2618,  0.2435,  0.2406,  0.2467,  0.2396])\n",
      "After filter by IoU: 0\n",
      "After filter by stability: 0\n",
      "After filter by touch crop boundaries: 0\n",
      "Before filter by IoU: 64\n",
      "IoU predictions: tensor([ 0.0849,  0.0732,  0.1178,  0.2130,  0.0382,  0.0575,  0.0430,  0.0650,\n",
      "         0.0737,  0.0503,  0.0269,  0.0457,  0.1571,  0.1612,  0.0811,  0.0274,\n",
      "        -0.0259,  0.0156,  0.1615,  0.1941,  0.2051,  0.2086,  0.2173,  0.2085,\n",
      "         0.2126,  0.2250,  0.2404,  0.2474,  0.2414,  0.2478,  0.2428,  0.2195,\n",
      "         0.0871,  0.1018,  0.2173,  0.1972,  0.0478,  0.0393,  0.0925,  0.0526,\n",
      "         0.0343,  0.0134,  0.0830,  0.1408,  0.1606,  0.1604,  0.1620,  0.1982,\n",
      "         0.0964,  0.0249,  0.0216,  0.1478,  0.1868,  0.1905,  0.1967,  0.1872,\n",
      "         0.1920,  0.2007,  0.2129,  0.2216,  0.2225,  0.2257,  0.2152,  0.1887])\n",
      "After filter by IoU: 0\n",
      "After filter by stability: 0\n",
      "After filter by touch crop boundaries: 0\n",
      "Before filter by IoU: 64\n",
      "IoU predictions: tensor([ 0.1043,  0.1833,  0.1907,  0.1094,  0.0621,  0.0382,  0.1153,  0.0839,\n",
      "         0.0419,  0.0072,  0.0998,  0.1944,  0.3069,  0.5291,  0.4918,  0.4463,\n",
      "         0.2041,  0.0428,  0.0129,  0.0281,  0.1686,  0.1801,  0.1837,  0.1754,\n",
      "         0.1878,  0.1989,  0.2044,  0.2084,  0.2085,  0.2117,  0.2065,  0.1793,\n",
      "         0.1302,  0.1669,  0.1835,  0.0735,  0.0526,  0.0444,  0.1429,  0.1001,\n",
      "         0.0479,  0.4258,  0.1708,  0.1329,  0.7040,  0.6925,  0.3677,  0.4554,\n",
      "         0.2370,  0.1915, -0.0029,  0.0048,  0.0942,  0.1804,  0.1823,  0.1765,\n",
      "         0.1905,  0.2010,  0.2066,  0.2100,  0.2093,  0.2083,  0.2029,  0.1877])\n",
      "After filter by IoU: 0\n",
      "After filter by stability: 0\n",
      "After filter by touch crop boundaries: 0\n",
      "Before filter by IoU: 64\n",
      "IoU predictions: tensor([ 0.1615,  0.1560,  0.1723,  0.0416,  0.0479,  0.1429,  0.1668,  0.1067,\n",
      "         0.0173,  0.1262,  0.9260,  0.9235,  0.4465,  0.6575,  0.3862,  0.4314,\n",
      "         0.4469,  0.4663,  0.2688, -0.0087, -0.0030,  0.1687,  0.1799,  0.1752,\n",
      "         0.1864,  0.1964,  0.2074,  0.2128,  0.2076,  0.2031,  0.1986,  0.1920,\n",
      "         0.1495,  0.1475,  0.1544,  0.0745,  0.0469,  0.1979,  0.1792,  0.1051,\n",
      "         0.1923,  0.7034,  0.9248,  0.9204,  0.9123,  0.7121,  0.3135,  0.4241,\n",
      "         0.4130,  0.4103,  0.2048,  0.0198, -0.0179,  0.1186,  0.1872,  0.1847,\n",
      "         0.1953,  0.1990,  0.2074,  0.2138,  0.2070,  0.1994,  0.1929,  0.1899])\n",
      "After filter by IoU: 5\n",
      "After filter by stability: 5\n",
      "After filter by touch crop boundaries: 5\n",
      "Before filter by IoU: 64\n",
      "IoU predictions: tensor([ 0.1571,  0.1537,  0.1539,  0.0719,  0.0493,  0.2197,  0.1969,  0.0663,\n",
      "         0.6891,  0.6856,  0.9134,  0.9060,  0.8745,  0.7053,  0.7231,  0.2052,\n",
      "         0.4110,  0.5734,  0.2051,  0.1847, -0.0262,  0.0220,  0.1961,  0.1968,\n",
      "         0.2068,  0.2086,  0.2156,  0.2223,  0.2154,  0.2134,  0.2014,  0.1901,\n",
      "         0.1732,  0.1800,  0.1389,  0.0793,  0.0680,  0.1877,  0.1942,  0.6613,\n",
      "         0.6794,  0.6862,  0.3983,  0.1878,  0.2388,  0.4659,  0.6335,  0.4786,\n",
      "         0.2218,  0.1326,  0.6853,  0.2641,  0.0645,  0.0395,  0.2155,  0.2164,\n",
      "         0.2213,  0.2253,  0.2330,  0.2389,  0.2281,  0.2278,  0.2148,  0.1944])\n",
      "After filter by IoU: 2\n",
      "After filter by stability: 2\n",
      "After filter by touch crop boundaries: 2\n",
      "Before filter by IoU: 64\n",
      "IoU predictions: tensor([ 0.1693,  0.1813,  0.1180,  0.0964,  0.0848,  0.0655,  0.1409,  0.6517,\n",
      "         0.6671,  0.5715,  0.4838,  0.4249,  0.3623,  0.3948,  0.5810,  0.6140,\n",
      "         0.2338,  0.5036,  0.6312,  0.1162, -0.0164,  0.0289,  0.2127,  0.2169,\n",
      "         0.2256,  0.2317,  0.2376,  0.2432,  0.2318,  0.2356,  0.2221,  0.1961,\n",
      "         0.1615,  0.1634,  0.1125,  0.0925,  0.1050,  0.0636,  0.1348,  0.0927,\n",
      "         0.5036,  0.3916,  0.4689,  0.7265,  0.6682,  0.8118,  0.4574,  0.5929,\n",
      "         0.2790,  0.1994,  0.2310,  0.0624,  0.0217,  0.0153,  0.2139,  0.2161,\n",
      "         0.2271,  0.2336,  0.2380,  0.2442,  0.2385,  0.2450,  0.2338,  0.2019])\n",
      "After filter by IoU: 0\n",
      "After filter by stability: 0\n",
      "After filter by touch crop boundaries: 0\n",
      "Before filter by IoU: 64\n",
      "IoU predictions: tensor([ 0.1512,  0.1560,  0.1062,  0.0934,  0.1043,  0.0736,  0.1126,  0.2608,\n",
      "         0.6347,  0.4610,  0.5028,  0.7421,  0.6850,  0.8626,  0.8094,  0.4037,\n",
      "         0.4474,  0.5719,  0.5155,  0.1716,  0.0040,  0.0319,  0.2171,  0.2123,\n",
      "         0.2202,  0.2253,  0.2325,  0.2411,  0.2368,  0.2474,  0.2445,  0.2065,\n",
      "         0.1534,  0.1677,  0.1189,  0.0971,  0.0943,  0.0453,  0.1064,  0.6413,\n",
      "         0.6807,  0.6154,  0.3770,  0.6629,  0.2612,  0.8651,  0.7735,  0.5624,\n",
      "         0.6135,  0.5579,  0.5114,  0.1623, -0.0042,  0.0214,  0.2140,  0.2101,\n",
      "         0.2148,  0.2179,  0.2232,  0.2294,  0.2323,  0.2399,  0.2444,  0.2158])\n",
      "After filter by IoU: 0\n",
      "After filter by stability: 0\n",
      "After filter by touch crop boundaries: 0\n",
      "Before filter by IoU: 64\n",
      "IoU predictions: tensor([ 0.1517,  0.1923,  0.1447,  0.1057,  0.0808,  0.0397,  0.0797,  0.6936,\n",
      "         0.7105,  0.6660,  0.2096,  0.8556,  0.5486,  0.5040,  0.5512,  0.6210,\n",
      "         0.5259,  0.6394,  0.5321,  0.1536, -0.0154,  0.0116,  0.2156,  0.2135,\n",
      "         0.2202,  0.2208,  0.2220,  0.2243,  0.2296,  0.2399,  0.2489,  0.2255,\n",
      "         0.1579,  0.1963,  0.1731,  0.0971,  0.0743,  0.0241,  0.0339,  0.0500,\n",
      "         0.6989,  0.6341,  0.8560,  0.8423,  0.6779,  0.7594,  0.2879,  0.8916,\n",
      "         0.7190,  0.3535,  0.7446,  0.1503, -0.0309,  0.0985,  0.2091,  0.2181,\n",
      "         0.2238,  0.2211,  0.2222,  0.2252,  0.2259,  0.2401,  0.2481,  0.2249])\n",
      "After filter by IoU: 1\n",
      "After filter by stability: 1\n",
      "After filter by touch crop boundaries: 1\n",
      "Before filter by IoU: 64\n",
      "IoU predictions: tensor([ 0.1914,  0.2037,  0.1920,  0.0784,  0.0710, -0.0136,  0.0138,  0.0903,\n",
      "         0.1717,  0.5225,  0.8542,  0.8405,  0.7792,  0.8781,  0.8885,  0.8726,\n",
      "         0.8307,  0.8585,  0.4444, -0.0332, -0.0300,  0.2003,  0.2110,  0.2263,\n",
      "         0.2344,  0.2326,  0.2288,  0.2362,  0.2313,  0.2381,  0.2370,  0.2113,\n",
      "         0.2184,  0.2549,  0.2309,  0.1019,  0.0795, -0.0065, -0.0072,  0.0768,\n",
      "         0.1073,  0.2330,  0.8668,  0.8808,  0.9054,  0.8946,  0.8982,  0.8940,\n",
      "         0.8858,  0.8785,  0.3379, -0.0871, -0.0064,  0.2098,  0.1992,  0.2128,\n",
      "         0.2252,  0.2265,  0.2258,  0.2263,  0.2308,  0.2339,  0.2220,  0.1873])\n",
      "After filter by IoU: 7\n",
      "After filter by stability: 7\n",
      "After filter by touch crop boundaries: 7\n",
      "Before filter by IoU: 64\n",
      "IoU predictions: tensor([ 0.2065,  0.2663,  0.2458,  0.1175,  0.0690,  0.0165, -0.0224, -0.0179,\n",
      "        -0.0137,  0.4794,  0.8863,  0.8954,  0.8955,  0.8948,  0.8866,  0.8973,\n",
      "         0.8888,  0.8539, -0.1060, -0.0936,  0.1599,  0.2255,  0.2096,  0.2166,\n",
      "         0.2247,  0.2242,  0.2223,  0.2282,  0.2270,  0.2265,  0.2192,  0.1902,\n",
      "         0.0529,  0.2178,  0.2528,  0.1880,  0.0641,  0.0395, -0.0389, -0.0233,\n",
      "        -0.0241,  0.1422,  0.5478,  0.8937,  0.9012,  0.8998,  0.8967,  0.8976,\n",
      "         0.8881,  0.2869, -0.1110,  0.0695,  0.1986,  0.2290,  0.2199,  0.2094,\n",
      "         0.2052,  0.2048,  0.2066,  0.2180,  0.2188,  0.2160,  0.2159,  0.1864])\n",
      "After filter by IoU: 13\n",
      "After filter by stability: 13\n",
      "After filter by touch crop boundaries: 13\n",
      "Before filter by IoU: 64\n",
      "IoU predictions: tensor([ 0.0578,  0.0704,  0.2392,  0.2300,  0.0647,  0.0577, -0.0631, -0.0365,\n",
      "        -0.0400, -0.0362,  0.1010,  0.0762,  0.8575,  0.8680,  0.8465,  0.3087,\n",
      "         0.2457, -0.1056, -0.0914,  0.1891,  0.1963,  0.2171,  0.2083,  0.2065,\n",
      "         0.1987,  0.1876,  0.1778,  0.1965,  0.2092,  0.2138,  0.2109,  0.1898,\n",
      "         0.0539,  0.0442,  0.1790,  0.2301,  0.0730,  0.0736,  0.0710, -0.0451,\n",
      "        -0.0498, -0.0490, -0.0543, -0.0362,  0.3412,  0.2600,  0.1665,  0.1494,\n",
      "        -0.0798, -0.0847,  0.1837,  0.1977,  0.1911,  0.1980,  0.1910,  0.1896,\n",
      "         0.1841,  0.1611,  0.1433,  0.1501,  0.1812,  0.2132,  0.2100,  0.1858])\n",
      "After filter by IoU: 0\n",
      "After filter by stability: 0\n",
      "After filter by touch crop boundaries: 0\n",
      "Before filter by IoU: 64\n",
      "IoU predictions: tensor([ 0.0542,  0.0500,  0.0388,  0.1872,  0.1523,  0.0808,  0.0692, -0.0777,\n",
      "        -0.0551, -0.0490, -0.0508, -0.0610, -0.0964, -0.1017, -0.0669, -0.0615,\n",
      "        -0.0621,  0.1681,  0.2032,  0.1825,  0.1745,  0.1844,  0.1797,  0.1792,\n",
      "         0.1752,  0.1501,  0.1272,  0.1288,  0.1582,  0.2037,  0.2150,  0.1798,\n",
      "         0.0566,  0.0575,  0.0505,  0.0233,  0.1593,  0.0578,  0.0740,  0.0613,\n",
      "        -0.0863, -0.0600, -0.0560, -0.0758, -0.0995, -0.1150, -0.1022,  0.0778,\n",
      "         0.1660,  0.2043,  0.1992,  0.1853,  0.1716,  0.1857,  0.1873,  0.1894,\n",
      "         0.1838,  0.1615,  0.1384,  0.1402,  0.1679,  0.1867,  0.1993,  0.1497])\n",
      "After filter by IoU: 0\n",
      "After filter by stability: 0\n",
      "After filter by touch crop boundaries: 0\n",
      "Before filter by IoU: 64\n",
      "IoU predictions: tensor([ 0.0838,  0.0642,  0.0494,  0.0302,  0.1166,  0.0414,  0.0983,  0.1048,\n",
      "         0.0825, -0.0095, -0.0665, -0.0749, -0.0729,  0.0604,  0.1424,  0.1723,\n",
      "         0.1829,  0.1899,  0.1878,  0.1785,  0.1741,  0.1917,  0.1931,  0.1940,\n",
      "         0.1924,  0.1738,  0.1499,  0.1543,  0.1811,  0.1616,  0.1467,  0.0911,\n",
      "         0.1060,  0.0833,  0.0664,  0.0541,  0.0243,  0.2465,  0.1010,  0.1318,\n",
      "         0.1237,  0.1222,  0.1515,  0.1678,  0.1596,  0.1441,  0.1471,  0.1637,\n",
      "         0.1712,  0.1789,  0.1743,  0.1709,  0.1682,  0.1747,  0.1775,  0.1783,\n",
      "         0.1767,  0.1587,  0.1338,  0.1370,  0.1444,  0.1389,  0.1130,  0.0893])\n",
      "After filter by IoU: 0\n",
      "After filter by stability: 0\n",
      "After filter by touch crop boundaries: 0\n",
      "Before filter by IoU: 64\n",
      "IoU predictions: tensor([0.1126, 0.0962, 0.0888, 0.0834, 0.0487, 0.0639, 0.1023, 0.1218, 0.1272,\n",
      "        0.1360, 0.1582, 0.1677, 0.1726, 0.1514, 0.1514, 0.1605, 0.1673, 0.1712,\n",
      "        0.1683, 0.1640, 0.1600, 0.1663, 0.1672, 0.1743, 0.1676, 0.1491, 0.1223,\n",
      "        0.1179, 0.1254, 0.1293, 0.0867, 0.1136, 0.0934, 0.0972, 0.1069, 0.1003,\n",
      "        0.0863, 0.0715, 0.1130, 0.1202, 0.1301, 0.1377, 0.1523, 0.1622, 0.1654,\n",
      "        0.1480, 0.1475, 0.1600, 0.1626, 0.1670, 0.1724, 0.1743, 0.1769, 0.1794,\n",
      "        0.1780, 0.1658, 0.1563, 0.1460, 0.1226, 0.1067, 0.0812, 0.0549, 0.0291,\n",
      "        0.0880])\n",
      "After filter by IoU: 0\n",
      "After filter by stability: 0\n",
      "After filter by touch crop boundaries: 0\n",
      "After filter by nms within crop: 3\n",
      "After filter by nms between crops: 3\n",
      "Filtering small disconnected regions and holes in masks...\n",
      "After filter small disconnected regions and holes in masks: 3\n",
      "Encoding masks...\n",
      "Writing mask records...\n",
      "label prediction: [ 6.7336607  -0.25088742 -0.8077131  -0.9599845  -1.8247167  -2.2380536\n",
      "  0.638349   -0.32568753 -1.2974368  -1.1741105  -2.172297   -1.668344\n",
      " -2.4613762  -3.0630023 ]\n",
      "label prediction: [ 5.9505811e+00 -2.1843631e-03 -7.2399873e-01 -8.3428526e-01\n",
      " -1.7894078e+00 -2.1808922e+00  1.1883259e+00 -2.7602658e-01\n",
      " -1.3414940e+00 -1.1641779e+00 -2.1005895e+00 -1.6362110e+00\n",
      " -2.4080024e+00 -2.9057550e+00]\n",
      "label prediction: [ 6.569862   -0.26858267 -0.74416846 -0.8998197  -1.7689466  -2.1784916\n",
      "  0.57450616 -0.33889568 -1.26085    -1.1705635  -2.1183798  -1.6366013\n",
      " -2.3964841  -2.9195309 ]\n"
     ]
    }
   ],
   "source": [
    "# predict\n",
    "print('Predicting...')\n",
    "#label, tmp = predicter.predict([image])[0]\n",
    "label = predicter.predict([image])[0]"
   ]
  },
  {
   "cell_type": "code",
   "execution_count": 5,
   "metadata": {},
   "outputs": [
    {
     "name": "stdout",
     "output_type": "stream",
     "text": [
      "label predictions: [6.733660697937012, -0.2508874237537384, -0.8077130913734436, -0.9599844813346863, -1.8247166872024536, -2.238053560256958, 0.6383489966392517, -0.3256875276565552, -1.2974368333816528, -1.1741105318069458, -2.1722970008850098, -1.6683440208435059, -2.461376190185547, -3.063002347946167]\n",
      "label predictions: [5.950581073760986, -0.002184363082051277, -0.7239987254142761, -0.8342852592468262, -1.7894078493118286, -2.1808922290802, 1.1883258819580078, -0.27602657675743103, -1.3414939641952515, -1.1641778945922852, -2.1005895137786865, -1.6362110376358032, -2.4080023765563965, -2.905755043029785]\n",
      "label predictions: [6.569861888885498, -0.26858267188072205, -0.7441684603691101, -0.8998196721076965, -1.768946647644043, -2.1784915924072266, 0.5745061635971069, -0.33889567852020264, -1.260849952697754, -1.1705634593963623, -2.118379831314087, -1.6366013288497925, -2.396484136581421, -2.9195308685302734]\n"
     ]
    }
   ],
   "source": [
    "for (mask,label_pred) in tmp:\n",
    "    mask = np.stack([mask, mask, mask], axis=2).astype(np.uint8)\n",
    "    mask *= 255\n",
    "    # transform mask to HxWx3\n",
    "    print('label predictions:', label_pred)\n",
    "    masked_image = image.copy()\n",
    "    masked_image[mask>0] = 0\n",
    "    cv2.imshow('qwq',masked_image)\n",
    "    cv2.waitKey(0)\n",
    "    cv2.destroyAllWindows()"
   ]
  }
 ],
 "metadata": {
  "kernelspec": {
   "display_name": "Python 3",
   "language": "python",
   "name": "python3"
  },
  "language_info": {
   "codemirror_mode": {
    "name": "ipython",
    "version": 3
   },
   "file_extension": ".py",
   "mimetype": "text/x-python",
   "name": "python",
   "nbconvert_exporter": "python",
   "pygments_lexer": "ipython3",
   "version": "3.11.1"
  },
  "orig_nbformat": 4
 },
 "nbformat": 4,
 "nbformat_minor": 2
}
