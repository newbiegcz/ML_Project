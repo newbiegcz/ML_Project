{
 "cells": [
  {
   "cell_type": "code",
   "execution_count": 2,
   "metadata": {},
   "outputs": [
    {
     "name": "stdout",
     "output_type": "stream",
     "text": [
      "[{'image': 'raw_data\\\\imagesTr\\\\img0035.nii.gz', 'label': 'raw_data\\\\labelsTr\\\\label0035.nii.gz'}, {'image': 'raw_data\\\\imagesTr\\\\img0036.nii.gz', 'label': 'raw_data\\\\labelsTr\\\\label0036.nii.gz'}, {'image': 'raw_data\\\\imagesTr\\\\img0037.nii.gz', 'label': 'raw_data\\\\labelsTr\\\\label0037.nii.gz'}, {'image': 'raw_data\\\\imagesTr\\\\img0038.nii.gz', 'label': 'raw_data\\\\labelsTr\\\\label0038.nii.gz'}, {'image': 'raw_data\\\\imagesTr\\\\img0039.nii.gz', 'label': 'raw_data\\\\labelsTr\\\\label0039.nii.gz'}, {'image': 'raw_data\\\\imagesTr\\\\img0040.nii.gz', 'label': 'raw_data\\\\labelsTr\\\\label0040.nii.gz'}]\n"
     ]
    }
   ],
   "source": [
    "import numpy as np\n",
    "\n",
    "from monai.transforms import (\n",
    "    Compose,\n",
    "    CropForegroundd,\n",
    "    LoadImaged,\n",
    "    Orientationd,\n",
    "    ScaleIntensityRanged,\n",
    "    EnsureTyped,\n",
    ")\n",
    "\n",
    "from monai.data import (\n",
    "    load_decathlon_datalist,\n",
    "    set_track_meta,\n",
    "    ThreadDataLoader,\n",
    "    CacheDataset\n",
    ")\n",
    "\n",
    "files = load_decathlon_datalist('raw_data/dataset_0.json', True, \"validation\")\n",
    "print(files)"
   ]
  },
  {
   "cell_type": "code",
   "execution_count": 6,
   "metadata": {},
   "outputs": [],
   "source": [
    "import torchvision\n",
    "import torch\n",
    "\n",
    "class DictTransform:\n",
    "    def __init__(self, keys, transform):\n",
    "        self.keys = keys\n",
    "        self.transform = transform\n",
    "\n",
    "    def __call__(self, x):\n",
    "        x = x.copy()\n",
    "        for key in self.keys:\n",
    "            x[key] = self.transform(x[key])\n",
    "        return x\n",
    "    \n",
    "class PreprocessForModel:\n",
    "    pixel_mean=(torch.Tensor([123.675, 116.28, 103.53]) / 255).view(-1, 1, 1)\n",
    "    pixel_std=(torch.Tensor([58.395, 57.12, 57.375]) / 255).view(-1, 1, 1)\n",
    "    img_size=1024\n",
    "\n",
    "    def __init__(self, normalize=False):\n",
    "        self.normalize = normalize\n",
    "\n",
    "    def get_preprocess_shape(self, oldh: int, oldw: int, long_side_length: int):\n",
    "        scale = long_side_length * 1.0 / max(oldh, oldw)\n",
    "        newh, neww = oldh * scale, oldw * scale\n",
    "        neww = int(neww + 0.5)\n",
    "        newh = int(newh + 0.5)\n",
    "        return (newh, neww)\n",
    "\n",
    "    def __call__(self, x):\n",
    "        x = x.copy()\n",
    "        target_size = self.get_preprocess_shape(x['image'].shape[1], x['image'].shape[2], self.img_size)\n",
    "        tr_img = torchvision.transforms.Resize(target_size, interpolation=torchvision.transforms.InterpolationMode.BILINEAR, antialias=True)\n",
    "        tr_label = torchvision.transforms.Resize(target_size, interpolation=torchvision.transforms.InterpolationMode.NEAREST_EXACT, antialias=False)\n",
    "        x['image'] = tr_img(x['image'])\n",
    "        x['label'] = tr_label(x['label'])\n",
    "\n",
    "        if self.normalize:\n",
    "            x['image'] = (x['image'] - self.pixel_mean.to(x['image'].device)) / self.pixel_std.to(x['image'].device)\n",
    "        h, w = target_size\n",
    "        padh = self.img_size - h\n",
    "        padw = self.img_size - w\n",
    "        x['image'] = torch.nn.functional.pad(x['image'], (0, padw, 0, padh))\n",
    "        x['label'] = torch.nn.functional.pad(x['label'], (0, padw, 0, padh))\n",
    "        return x\n",
    "\n",
    "transform = torchvision.transforms.Compose(\n",
    "    [DictTransform([\"image\", \"label\"], torchvision.transforms.Lambda(lambda x: x.unsqueeze(0).repeat(3, 1, 1))),\n",
    "    PreprocessForModel(normalize=False)]\n",
    ")"
   ]
  },
  {
   "cell_type": "code",
   "execution_count": 18,
   "metadata": {},
   "outputs": [
    {
     "name": "stderr",
     "output_type": "stream",
     "text": [
      "Loading dataset:   0%|          | 0/6 [00:00<?, ?it/s]pixdim[0] (qfac) should be 1 (default) or -1; setting qfac to 1\n"
     ]
    },
    {
     "name": "stdout",
     "output_type": "stream",
     "text": [
      "2023-06-07 17:10:43,655 - pixdim[0] (qfac) should be 1 (default) or -1; setting qfac to 1\n"
     ]
    },
    {
     "name": "stderr",
     "output_type": "stream",
     "text": [
      "pixdim[0] (qfac) should be 1 (default) or -1; setting qfac to 1\n",
      "pixdim[0] (qfac) should be 1 (default) or -1; setting qfac to 1\n"
     ]
    },
    {
     "name": "stdout",
     "output_type": "stream",
     "text": [
      "2023-06-07 17:10:43,658 - pixdim[0] (qfac) should be 1 (default) or -1; setting qfac to 1\n"
     ]
    },
    {
     "name": "stderr",
     "output_type": "stream",
     "text": [
      "pixdim[0] (qfac) should be 1 (default) or -1; setting qfac to 1\n"
     ]
    },
    {
     "name": "stdout",
     "output_type": "stream",
     "text": [
      "2023-06-07 17:10:43,668 - pixdim[0] (qfac) should be 1 (default) or -1; setting qfac to 1\n",
      "2023-06-07 17:10:43,670 - pixdim[0] (qfac) should be 1 (default) or -1; setting qfac to 1\n"
     ]
    },
    {
     "name": "stderr",
     "output_type": "stream",
     "text": [
      "pixdim[0] (qfac) should be 1 (default) or -1; setting qfac to 1\n"
     ]
    },
    {
     "name": "stdout",
     "output_type": "stream",
     "text": [
      "2023-06-07 17:10:44,451 - pixdim[0] (qfac) should be 1 (default) or -1; setting qfac to 1\n"
     ]
    },
    {
     "name": "stderr",
     "output_type": "stream",
     "text": [
      "pixdim[0] (qfac) should be 1 (default) or -1; setting qfac to 1\n"
     ]
    },
    {
     "name": "stdout",
     "output_type": "stream",
     "text": [
      "2023-06-07 17:10:44,512 - pixdim[0] (qfac) should be 1 (default) or -1; setting qfac to 1\n"
     ]
    },
    {
     "name": "stderr",
     "output_type": "stream",
     "text": [
      "pixdim[0] (qfac) should be 1 (default) or -1; setting qfac to 1\n"
     ]
    },
    {
     "name": "stdout",
     "output_type": "stream",
     "text": [
      "2023-06-07 17:10:44,539 - pixdim[0] (qfac) should be 1 (default) or -1; setting qfac to 1\n"
     ]
    },
    {
     "name": "stderr",
     "output_type": "stream",
     "text": [
      "Loading dataset:  17%|█▋        | 1/6 [00:01<00:06,  1.38s/it]pixdim[0] (qfac) should be 1 (default) or -1; setting qfac to 1\n"
     ]
    },
    {
     "name": "stdout",
     "output_type": "stream",
     "text": [
      "2023-06-07 17:10:45,038 - pixdim[0] (qfac) should be 1 (default) or -1; setting qfac to 1\n"
     ]
    },
    {
     "name": "stderr",
     "output_type": "stream",
     "text": [
      "pixdim[0] (qfac) should be 1 (default) or -1; setting qfac to 1\n"
     ]
    },
    {
     "name": "stdout",
     "output_type": "stream",
     "text": [
      "2023-06-07 17:10:45,423 - pixdim[0] (qfac) should be 1 (default) or -1; setting qfac to 1\n"
     ]
    },
    {
     "name": "stderr",
     "output_type": "stream",
     "text": [
      "pixdim[0] (qfac) should be 1 (default) or -1; setting qfac to 1\n"
     ]
    },
    {
     "name": "stdout",
     "output_type": "stream",
     "text": [
      "2023-06-07 17:10:45,806 - pixdim[0] (qfac) should be 1 (default) or -1; setting qfac to 1\n"
     ]
    },
    {
     "name": "stderr",
     "output_type": "stream",
     "text": [
      "pixdim[0] (qfac) should be 1 (default) or -1; setting qfac to 1\n"
     ]
    },
    {
     "name": "stdout",
     "output_type": "stream",
     "text": [
      "2023-06-07 17:10:45,871 - pixdim[0] (qfac) should be 1 (default) or -1; setting qfac to 1\n"
     ]
    },
    {
     "name": "stderr",
     "output_type": "stream",
     "text": [
      "Loading dataset:  33%|███▎      | 2/6 [00:03<00:07,  1.84s/it]pixdim[0] (qfac) should be 1 (default) or -1; setting qfac to 1\n"
     ]
    },
    {
     "name": "stdout",
     "output_type": "stream",
     "text": [
      "2023-06-07 17:10:47,306 - pixdim[0] (qfac) should be 1 (default) or -1; setting qfac to 1\n"
     ]
    },
    {
     "name": "stderr",
     "output_type": "stream",
     "text": [
      "Loading dataset: 100%|██████████| 6/6 [00:04<00:00,  1.22it/s]\n"
     ]
    },
    {
     "name": "stdout",
     "output_type": "stream",
     "text": [
      "img0035\n",
      "(1024, 1024, 3)\n",
      "(1024, 1024)\n",
      "(1024, 1024, 3)\n",
      "(1024, 1024)\n",
      "(1024, 1024, 3)\n",
      "(1024, 1024)\n",
      "(1024, 1024, 3)\n",
      "(1024, 1024)\n",
      "(1024, 1024, 3)\n",
      "(1024, 1024)\n",
      "(1024, 1024, 3)\n",
      "(1024, 1024)\n",
      "(1024, 1024, 3)\n",
      "(1024, 1024)\n",
      "(1024, 1024, 3)\n",
      "(1024, 1024)\n",
      "(1024, 1024, 3)\n",
      "(1024, 1024)\n",
      "(1024, 1024, 3)\n",
      "(1024, 1024)\n",
      "(1024, 1024, 3)\n",
      "(1024, 1024)\n",
      "(1024, 1024, 3)\n",
      "(1024, 1024)\n",
      "(1024, 1024, 3)\n",
      "(1024, 1024)\n",
      "(1024, 1024, 3)\n",
      "(1024, 1024)\n",
      "(1024, 1024, 3)\n",
      "(1024, 1024)\n",
      "(1024, 1024, 3)\n",
      "(1024, 1024)\n",
      "(1024, 1024, 3)\n",
      "(1024, 1024)\n",
      "(1024, 1024, 3)\n",
      "(1024, 1024)\n",
      "(1024, 1024, 3)\n",
      "(1024, 1024)\n",
      "(1024, 1024, 3)\n",
      "(1024, 1024)\n",
      "(1024, 1024, 3)\n",
      "(1024, 1024)\n",
      "(1024, 1024, 3)\n",
      "(1024, 1024)\n",
      "(1024, 1024, 3)\n",
      "(1024, 1024)\n",
      "(1024, 1024, 3)\n",
      "(1024, 1024)\n",
      "(1024, 1024, 3)\n",
      "(1024, 1024)\n",
      "(1024, 1024, 3)\n",
      "(1024, 1024)\n",
      "(1024, 1024, 3)\n",
      "(1024, 1024)\n",
      "(1024, 1024, 3)\n",
      "(1024, 1024)\n",
      "(1024, 1024, 3)\n",
      "(1024, 1024)\n",
      "(1024, 1024, 3)\n",
      "(1024, 1024)\n",
      "(1024, 1024, 3)\n",
      "(1024, 1024)\n",
      "(1024, 1024, 3)\n",
      "(1024, 1024)\n",
      "(1024, 1024, 3)\n",
      "(1024, 1024)\n",
      "(1024, 1024, 3)\n",
      "(1024, 1024)\n",
      "(1024, 1024, 3)\n",
      "(1024, 1024)\n",
      "(1024, 1024, 3)\n",
      "(1024, 1024)\n",
      "(1024, 1024, 3)\n",
      "(1024, 1024)\n",
      "(1024, 1024, 3)\n",
      "(1024, 1024)\n",
      "(1024, 1024, 3)\n",
      "(1024, 1024)\n",
      "(1024, 1024, 3)\n",
      "(1024, 1024)\n",
      "(1024, 1024, 3)\n",
      "(1024, 1024)\n",
      "(1024, 1024, 3)\n",
      "(1024, 1024)\n",
      "(1024, 1024, 3)\n",
      "(1024, 1024)\n",
      "(1024, 1024, 3)\n",
      "(1024, 1024)\n",
      "(1024, 1024, 3)\n",
      "(1024, 1024)\n",
      "(1024, 1024, 3)\n",
      "(1024, 1024)\n",
      "(1024, 1024, 3)\n",
      "(1024, 1024)\n",
      "(1024, 1024, 3)\n",
      "(1024, 1024)\n",
      "(1024, 1024, 3)\n",
      "(1024, 1024)\n",
      "(1024, 1024, 3)\n",
      "(1024, 1024)\n",
      "(1024, 1024, 3)\n",
      "(1024, 1024)\n",
      "(1024, 1024, 3)\n",
      "(1024, 1024)\n",
      "(1024, 1024, 3)\n",
      "(1024, 1024)\n",
      "(1024, 1024, 3)\n",
      "(1024, 1024)\n",
      "(1024, 1024, 3)\n",
      "(1024, 1024)\n",
      "(1024, 1024, 3)\n",
      "(1024, 1024)\n",
      "(1024, 1024, 3)\n",
      "(1024, 1024)\n",
      "(1024, 1024, 3)\n",
      "(1024, 1024)\n",
      "(1024, 1024, 3)\n",
      "(1024, 1024)\n",
      "(1024, 1024, 3)\n",
      "(1024, 1024)\n",
      "(1024, 1024, 3)\n",
      "(1024, 1024)\n",
      "(1024, 1024, 3)\n",
      "(1024, 1024)\n",
      "(1024, 1024, 3)\n",
      "(1024, 1024)\n",
      "(1024, 1024, 3)\n",
      "(1024, 1024)\n",
      "(1024, 1024, 3)\n",
      "(1024, 1024)\n",
      "(1024, 1024, 3)\n",
      "(1024, 1024)\n",
      "(1024, 1024, 3)\n",
      "(1024, 1024)\n",
      "(1024, 1024, 3)\n",
      "(1024, 1024)\n",
      "(1024, 1024, 3)\n",
      "(1024, 1024)\n",
      "(1024, 1024, 3)\n",
      "(1024, 1024)\n",
      "(1024, 1024, 3)\n",
      "(1024, 1024)\n",
      "(1024, 1024, 3)\n",
      "(1024, 1024)\n",
      "(1024, 1024, 3)\n",
      "(1024, 1024)\n",
      "(1024, 1024, 3)\n",
      "(1024, 1024)\n",
      "(1024, 1024, 3)\n",
      "(1024, 1024)\n",
      "(1024, 1024, 3)\n",
      "(1024, 1024)\n",
      "(1024, 1024, 3)\n",
      "(1024, 1024)\n",
      "(1024, 1024, 3)\n",
      "(1024, 1024)\n",
      "(1024, 1024, 3)\n",
      "(1024, 1024)\n",
      "(1024, 1024, 3)\n",
      "(1024, 1024)\n",
      "(1024, 1024, 3)\n",
      "(1024, 1024)\n",
      "(1024, 1024, 3)\n",
      "(1024, 1024)\n",
      "(1024, 1024, 3)\n",
      "(1024, 1024)\n",
      "(1024, 1024, 3)\n",
      "(1024, 1024)\n",
      "(1024, 1024, 3)\n",
      "(1024, 1024)\n",
      "(1024, 1024, 3)\n",
      "(1024, 1024)\n",
      "(1024, 1024, 3)\n",
      "(1024, 1024)\n",
      "(1024, 1024, 3)\n",
      "(1024, 1024)\n",
      "(1024, 1024, 3)\n",
      "(1024, 1024)\n",
      "(1024, 1024, 3)\n",
      "(1024, 1024)\n",
      "(1024, 1024, 3)\n",
      "(1024, 1024)\n",
      "(1024, 1024, 3)\n",
      "(1024, 1024)\n",
      "(1024, 1024, 3)\n",
      "(1024, 1024)\n",
      "(1024, 1024, 3)\n",
      "(1024, 1024)\n",
      "img0036\n",
      "(1024, 1024, 3)\n",
      "(1024, 1024)\n",
      "(1024, 1024, 3)\n",
      "(1024, 1024)\n",
      "(1024, 1024, 3)\n",
      "(1024, 1024)\n",
      "(1024, 1024, 3)\n",
      "(1024, 1024)\n",
      "(1024, 1024, 3)\n",
      "(1024, 1024)\n",
      "(1024, 1024, 3)\n",
      "(1024, 1024)\n",
      "(1024, 1024, 3)\n",
      "(1024, 1024)\n",
      "(1024, 1024, 3)\n",
      "(1024, 1024)\n",
      "(1024, 1024, 3)\n",
      "(1024, 1024)\n",
      "(1024, 1024, 3)\n",
      "(1024, 1024)\n",
      "(1024, 1024, 3)\n",
      "(1024, 1024)\n",
      "(1024, 1024, 3)\n",
      "(1024, 1024)\n",
      "(1024, 1024, 3)\n",
      "(1024, 1024)\n",
      "(1024, 1024, 3)\n",
      "(1024, 1024)\n"
     ]
    },
    {
     "ename": "KeyboardInterrupt",
     "evalue": "",
     "output_type": "error",
     "traceback": [
      "\u001b[1;31m---------------------------------------------------------------------------\u001b[0m",
      "\u001b[1;31mKeyboardInterrupt\u001b[0m                         Traceback (most recent call last)",
      "Cell \u001b[1;32mIn[18], line 43\u001b[0m\n\u001b[0;32m     41\u001b[0m image \u001b[39m=\u001b[39m (image\u001b[39m*\u001b[39m\u001b[39m255\u001b[39m)\u001b[39m.\u001b[39mastype(np\u001b[39m.\u001b[39muint8)\n\u001b[0;32m     42\u001b[0m label \u001b[39m=\u001b[39m data[\u001b[39m'\u001b[39m\u001b[39mlabel\u001b[39m\u001b[39m'\u001b[39m][\u001b[39m0\u001b[39m]\u001b[39m.\u001b[39mnumpy()\n\u001b[1;32m---> 43\u001b[0m \u001b[39mprint\u001b[39m(image\u001b[39m.\u001b[39mshape)\n\u001b[0;32m     44\u001b[0m \u001b[39mprint\u001b[39m(label\u001b[39m.\u001b[39mshape)\n",
      "\u001b[1;31mKeyboardInterrupt\u001b[0m: "
     ]
    }
   ],
   "source": [
    "import os\n",
    "set_track_meta(True)\n",
    "_default_transform = Compose(\n",
    "    [\n",
    "        LoadImaged(keys=[\"image\", \"label\"], ensure_channel_first=True, dtype=np.float64),\n",
    "        ScaleIntensityRanged(keys=[\"image\"], a_min=-175, a_max=250, b_min=0.0, b_max=1.0, clip=True, dtype=np.float64),\n",
    "        CropForegroundd(keys=[\"image\", \"label\"], source_key=\"image\", dtype=np.float64),\n",
    "        Orientationd(keys=[\"image\", \"label\"], axcodes=\"RAS\"),\n",
    "        EnsureTyped(keys=[\"image\", \"label\"], track_meta=False, dtype=np.float64),\n",
    "    ]\n",
    ")\n",
    "cache = CacheDataset(\n",
    "    data=files, \n",
    "    transform=_default_transform, \n",
    "    cache_rate=1.0, \n",
    "    num_workers=4\n",
    ")\n",
    "set_track_meta(False)\n",
    "\n",
    "for d in cache:\n",
    "    file_path = d['image_meta_dict']['filename_or_obj']\n",
    "    file_name = os.path.basename(file_path)\n",
    "    index_of_dot = file_name.index('.')\n",
    "    file_name_without_extension = file_name[:index_of_dot]\n",
    "    print(file_name_without_extension)\n",
    "    # print(d['image_meta_dict']['filename_or_obj']) ## raw_data\\imagesTr\\img0035.nii.gz\n",
    "    images, labels = d['image'][0], d['label'][0]\n",
    "    h = images.shape[2]\n",
    "    # data_list = []\n",
    "    for i in range(h):\n",
    "        data = {\n",
    "            \"image\": images[:, :, i],\n",
    "            \"label\": labels[:, :, i],\n",
    "            \"h\": i / h\n",
    "        }\n",
    "        #print(data['image'].shape)\n",
    "        #print(data['label'].shape)\n",
    "        data = transform(data)\n",
    "        #print(image.shape)\n",
    "        image = data['image'].numpy().transpose(1, 2, 0)\n",
    "        image = (image*255).astype(np.uint8)\n",
    "        label = data['label'][0].numpy()\n",
    "        print(image.shape)\n",
    "        print(label.shape)"
   ]
  },
  {
   "cell_type": "code",
   "execution_count": 22,
   "metadata": {},
   "outputs": [
    {
     "name": "stdout",
     "output_type": "stream",
     "text": [
      "(2, 2)\n"
     ]
    }
   ],
   "source": [
    "import numpy as np\n",
    "a = np.array([1,2])\n",
    "b=np.array([3,4])\n",
    "c=[a,b]\n",
    "print(np.array(c).shape)"
   ]
  }
 ],
 "metadata": {
  "kernelspec": {
   "display_name": "Python 3",
   "language": "python",
   "name": "python3"
  },
  "language_info": {
   "codemirror_mode": {
    "name": "ipython",
    "version": 3
   },
   "file_extension": ".py",
   "mimetype": "text/x-python",
   "name": "python",
   "nbconvert_exporter": "python",
   "pygments_lexer": "ipython3",
   "version": "3.11.1"
  },
  "orig_nbformat": 4
 },
 "nbformat": 4,
 "nbformat_minor": 2
}
