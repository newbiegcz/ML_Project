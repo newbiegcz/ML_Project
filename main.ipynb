{
 "cells": [
  {
   "cell_type": "code",
   "execution_count": 1,
   "metadata": {},
   "outputs": [],
   "source": [
    "import data.dataset\n",
    "import model.prompter\n",
    "import utils.eval\n",
    "import torch"
   ]
  },
  {
   "cell_type": "code",
   "execution_count": 2,
   "metadata": {},
   "outputs": [
    {
     "ename": "AssertionError",
     "evalue": "Invalid transform key!",
     "output_type": "error",
     "traceback": [
      "\u001b[1;31m---------------------------------------------------------------------------\u001b[0m",
      "\u001b[1;31mAssertionError\u001b[0m                            Traceback (most recent call last)",
      "Cell \u001b[1;32mIn[2], line 1\u001b[0m\n\u001b[1;32m----> 1\u001b[0m it \u001b[39m=\u001b[39m data\u001b[39m.\u001b[39;49mdataset\u001b[39m.\u001b[39;49mget_data_loader(\u001b[39m\"\u001b[39;49m\u001b[39mtraining\u001b[39;49m\u001b[39m\"\u001b[39;49m, \u001b[39m\"\u001b[39;49m\u001b[39mnaive_to_rgb_and_normalize\u001b[39;49m\u001b[39m\"\u001b[39;49m, batch_size\u001b[39m=\u001b[39;49m\u001b[39m1\u001b[39;49m, shuffle\u001b[39m=\u001b[39;49m\u001b[39mFalse\u001b[39;49;00m, device \u001b[39m=\u001b[39;49m \u001b[39m\"\u001b[39;49m\u001b[39mcpu\u001b[39;49m\u001b[39m\"\u001b[39;49m)\n",
      "File \u001b[1;32mc:\\Users\\32427\\Documents\\GitHub\\ML_Project\\data\\dataset.py:136\u001b[0m, in \u001b[0;36mget_data_loader\u001b[1;34m(file_key, transform_key, batch_size, shuffle, device, first_only)\u001b[0m\n\u001b[0;32m    134\u001b[0m \u001b[39mdef\u001b[39;00m \u001b[39mget_data_loader\u001b[39m(file_key, transform_key, batch_size, shuffle, device\u001b[39m=\u001b[39mdevice, first_only\u001b[39m=\u001b[39m\u001b[39mFalse\u001b[39;00m):\n\u001b[0;32m    135\u001b[0m     \u001b[39massert\u001b[39;00m file_key \u001b[39min\u001b[39;00m data_files\u001b[39m.\u001b[39mkeys(), \u001b[39m\"\u001b[39m\u001b[39mInvalid file key!\u001b[39m\u001b[39m\"\u001b[39m\n\u001b[1;32m--> 136\u001b[0m     \u001b[39massert\u001b[39;00m transform_key \u001b[39min\u001b[39;00m transforms\u001b[39m.\u001b[39mkeys(), \u001b[39m\"\u001b[39m\u001b[39mInvalid transform key!\u001b[39m\u001b[39m\"\u001b[39m\n\u001b[0;32m    137\u001b[0m     loader \u001b[39m=\u001b[39m ThreadDataLoader(Dataset2D(data_files[file_key], \n\u001b[0;32m    138\u001b[0m                                         transform\u001b[39m=\u001b[39mtransforms[transform_key],\n\u001b[0;32m    139\u001b[0m                                         device\u001b[39m=\u001b[39mdevice, first_only\u001b[39m=\u001b[39mfirst_only), \n\u001b[0;32m    140\u001b[0m                                     batch_size\u001b[39m=\u001b[39mbatch_size, \n\u001b[0;32m    141\u001b[0m                                     num_workers\u001b[39m=\u001b[39m\u001b[39m0\u001b[39m, \n\u001b[0;32m    142\u001b[0m                                     shuffle\u001b[39m=\u001b[39mshuffle)\n\u001b[0;32m    143\u001b[0m     \u001b[39mreturn\u001b[39;00m loader\n",
      "\u001b[1;31mAssertionError\u001b[0m: Invalid transform key!"
     ]
    }
   ],
   "source": [
    "it = data.dataset.get_data_loader(\"training\", \"naive_to_rgb_and_normalize\", batch_size=1, shuffle=False, device = \"cpu\")"
   ]
  },
  {
   "cell_type": "code",
   "execution_count": 3,
   "metadata": {},
   "outputs": [],
   "source": [
    "import numpy as np\n",
    "import cv2\n",
    "import matplotlib.pyplot as plt\n",
    "from segment_anything import SamPredictor, sam_model_registry\n",
    "\n",
    "model_type = \"vit_h\"\n",
    "model_checkpoint = \"checkpoint/sam_vit_h_4b8939.pth\"\n",
    "\n",
    "sam = sam_model_registry[model_type](checkpoint=model_checkpoint)\n",
    "sam_predictor = SamPredictor(sam)\n",
    "\n",
    "Promptor = model.prompter.Prompter()\n"
   ]
  },
  {
   "cell_type": "code",
   "execution_count": 4,
   "metadata": {},
   "outputs": [],
   "source": [
    "import matplotlib.pyplot as plt\n",
    "def show_points(coords, labels, ax, marker_size=375):\n",
    "    pos_points = coords[labels==1]\n",
    "    neg_points = coords[labels==0]\n",
    "    ax.scatter(pos_points[:, 0], pos_points[:, 1], color='green', marker='*', s=marker_size, edgecolor='white', linewidth=1.25)\n",
    "    ax.scatter(neg_points[:, 0], neg_points[:, 1], color='red', marker='*', s=marker_size, edgecolor='white', linewidth=1.25)  \n",
    "\n",
    "def predict(image, label):\n",
    "\n",
    "    global image2\n",
    "    image2 = image.numpy()\n",
    "\n",
    "\n",
    "    sam_predictor.set_image(image)\n",
    "    result = np.zeros(label.shape)\n",
    "    scores = np.zeros(label.shape, dtype = float)\n",
    "    \n",
    "\n",
    "    for i in range(1, 14):\n",
    "        #print(i)\n",
    "        mask = np.zeros(label.shape, dtype = np.uint8)\n",
    "        mask[label == i] = 1\n",
    "        if (np.max(mask) == 0):\n",
    "            continue\n",
    "        prompt = Promptor(mask, 1)\n",
    "        #for j in range(mask.shape[0]):\n",
    "        #    for k in range(mask.shape[1]):\n",
    "        #        print(mask[j][k], end = ' ')\n",
    "        #    print()\n",
    "        #print(prompt)\n",
    "        msk, score, logit = sam_predictor.predict(**prompt)  \n",
    "\n",
    "        x, y, z = msk.shape\n",
    "        msk = msk.reshape(y, z)\n",
    "\n",
    "        # max_id = 1\n",
    "        # print(score)\n",
    "\n",
    "        plt.ion()\n",
    "\n",
    "        plt.figure(figsize=(10,10))\n",
    "        plt.imshow(image)\n",
    "        show_points(prompt['point_coords'], prompt['point_labels'], plt.gca())\n",
    "        plt.axis('on')\n",
    "        plt.show()  \n",
    "\n",
    "\n",
    "        cond = (scores < score[0]) & msk\n",
    "        scores[cond] = score[0]\n",
    "        result[cond] = i\n",
    "\n",
    "    global res2\n",
    "    res2 = result\n",
    "\n",
    "    global ulabel\n",
    "    ulabel = label.numpy()\n",
    "\n",
    "    return result\n"
   ]
  },
  {
   "cell_type": "code",
   "execution_count": 5,
   "metadata": {},
   "outputs": [
    {
     "name": "stdout",
     "output_type": "stream",
     "text": [
      "tensor([[[-2.1179, -2.1179, -2.1179,  ...,  0.0000,  0.0000,  0.0000],\n",
      "         [-2.1179, -2.1179, -2.1179,  ...,  0.0000,  0.0000,  0.0000],\n",
      "         [-2.1179, -2.1179, -2.1179,  ...,  0.0000,  0.0000,  0.0000],\n",
      "         ...,\n",
      "         [-2.1179, -2.1179, -2.1179,  ...,  0.0000,  0.0000,  0.0000],\n",
      "         [-2.1179, -2.1179, -2.1179,  ...,  0.0000,  0.0000,  0.0000],\n",
      "         [-2.1179, -2.1179, -2.1179,  ...,  0.0000,  0.0000,  0.0000]],\n",
      "\n",
      "        [[-2.0357, -2.0357, -2.0357,  ...,  0.0000,  0.0000,  0.0000],\n",
      "         [-2.0357, -2.0357, -2.0357,  ...,  0.0000,  0.0000,  0.0000],\n",
      "         [-2.0357, -2.0357, -2.0357,  ...,  0.0000,  0.0000,  0.0000],\n",
      "         ...,\n",
      "         [-2.0357, -2.0357, -2.0357,  ...,  0.0000,  0.0000,  0.0000],\n",
      "         [-2.0357, -2.0357, -2.0357,  ...,  0.0000,  0.0000,  0.0000],\n",
      "         [-2.0357, -2.0357, -2.0357,  ...,  0.0000,  0.0000,  0.0000]],\n",
      "\n",
      "        [[-1.8044, -1.8044, -1.8044,  ...,  0.0000,  0.0000,  0.0000],\n",
      "         [-1.8044, -1.8044, -1.8044,  ...,  0.0000,  0.0000,  0.0000],\n",
      "         [-1.8044, -1.8044, -1.8044,  ...,  0.0000,  0.0000,  0.0000],\n",
      "         ...,\n",
      "         [-1.8044, -1.8044, -1.8044,  ...,  0.0000,  0.0000,  0.0000],\n",
      "         [-1.8044, -1.8044, -1.8044,  ...,  0.0000,  0.0000,  0.0000],\n",
      "         [-1.8044, -1.8044, -1.8044,  ...,  0.0000,  0.0000,  0.0000]]])\n",
      "DICE: 0.000000\n",
      "tensor(0.)\n"
     ]
    },
    {
     "name": "stderr",
     "output_type": "stream",
     "text": [
      "c:\\Users\\32427\\Documents\\GitHub\\ML_Project\\utils\\eval.py:19: UserWarning: To copy construct from a tensor, it is recommended to use sourceTensor.clone().detach() or sourceTensor.clone().detach().requires_grad_(True), rather than torch.tensor(sourceTensor).\n",
      "  cur = dice(torch.tensor(val_outputs, dtype = torch.int), torch.tensor(val_labels[0][0], dtype = torch.int))\n"
     ]
    }
   ],
   "source": [
    "print(utils.eval.evaluate(predict, it))"
   ]
  },
  {
   "cell_type": "code",
   "execution_count": 6,
   "metadata": {},
   "outputs": [
    {
     "name": "stdout",
     "output_type": "stream",
     "text": [
      "1024 1024\n",
      "[[[-2.117904  -2.117904  -2.117904  ...  0.         0.         0.       ]\n",
      "  [-2.117904  -2.117904  -2.117904  ...  0.         0.         0.       ]\n",
      "  [-2.117904  -2.117904  -2.117904  ...  0.         0.         0.       ]\n",
      "  ...\n",
      "  [-2.117904  -2.117904  -2.117904  ...  0.         0.         0.       ]\n",
      "  [-2.117904  -2.117904  -2.117904  ...  0.         0.         0.       ]\n",
      "  [-2.117904  -2.117904  -2.117904  ...  0.         0.         0.       ]]\n",
      "\n",
      " [[-2.0357144 -2.0357144 -2.0357144 ...  0.         0.         0.       ]\n",
      "  [-2.0357144 -2.0357144 -2.0357144 ...  0.         0.         0.       ]\n",
      "  [-2.0357144 -2.0357144 -2.0357144 ...  0.         0.         0.       ]\n",
      "  ...\n",
      "  [-2.0357144 -2.0357144 -2.0357144 ...  0.         0.         0.       ]\n",
      "  [-2.0357144 -2.0357144 -2.0357144 ...  0.         0.         0.       ]\n",
      "  [-2.0357144 -2.0357144 -2.0357144 ...  0.         0.         0.       ]]\n",
      "\n",
      " [[-1.8044444 -1.8044444 -1.8044444 ...  0.         0.         0.       ]\n",
      "  [-1.8044444 -1.8044444 -1.8044444 ...  0.         0.         0.       ]\n",
      "  [-1.8044444 -1.8044444 -1.8044444 ...  0.         0.         0.       ]\n",
      "  ...\n",
      "  [-1.8044444 -1.8044444 -1.8044444 ...  0.         0.         0.       ]\n",
      "  [-1.8044444 -1.8044444 -1.8044444 ...  0.         0.         0.       ]\n",
      "  [-1.8044444 -1.8044444 -1.8044444 ...  0.         0.         0.       ]]]\n",
      "[[[-3.17685592 -3.17685592 -3.17685592 ...  0.          0.\n",
      "    0.        ]\n",
      "  [-3.17685592 -3.17685592 -3.17685592 ...  0.          0.\n",
      "    0.        ]\n",
      "  [-3.17685592 -3.17685592 -3.17685592 ...  0.          0.\n",
      "    0.        ]\n",
      "  ...\n",
      "  [-3.17685592 -3.17685592 -3.17685592 ...  0.          0.\n",
      "    0.        ]\n",
      "  [-3.17685592 -3.17685592 -3.17685592 ...  0.          0.\n",
      "    0.        ]\n",
      "  [-3.17685592 -3.17685592 -3.17685592 ...  0.          0.\n",
      "    0.        ]]\n",
      "\n",
      " [[-3.05357158 -3.05357158 -3.05357158 ...  0.          0.\n",
      "    0.        ]\n",
      "  [-3.05357158 -3.05357158 -3.05357158 ...  0.          0.\n",
      "    0.        ]\n",
      "  [-3.05357158 -3.05357158 -3.05357158 ...  0.          0.\n",
      "    0.        ]\n",
      "  ...\n",
      "  [-3.05357158 -3.05357158 -3.05357158 ...  0.          0.\n",
      "    0.        ]\n",
      "  [-3.05357158 -3.05357158 -3.05357158 ...  0.          0.\n",
      "    0.        ]\n",
      "  [-3.05357158 -3.05357158 -3.05357158 ...  0.          0.\n",
      "    0.        ]]\n",
      "\n",
      " [[-2.70666665 -2.70666665 -2.70666665 ...  0.          0.\n",
      "    0.        ]\n",
      "  [-2.70666665 -2.70666665 -2.70666665 ...  0.          0.\n",
      "    0.        ]\n",
      "  [-2.70666665 -2.70666665 -2.70666665 ...  0.          0.\n",
      "    0.        ]\n",
      "  ...\n",
      "  [-2.70666665 -2.70666665 -2.70666665 ...  0.          0.\n",
      "    0.        ]\n",
      "  [-2.70666665 -2.70666665 -2.70666665 ...  0.          0.\n",
      "    0.        ]\n",
      "  [-2.70666665 -2.70666665 -2.70666665 ...  0.          0.\n",
      "    0.        ]]]\n"
     ]
    },
    {
     "ename": "error",
     "evalue": "OpenCV(4.7.0) D:\\a\\opencv-python\\opencv-python\\opencv\\modules\\highgui\\src\\window_w32.cpp:124: error: (-215:Assertion failed) bmi && width >= 0 && height >= 0 && (bpp == 8 || bpp == 24 || bpp == 32) in function 'FillBitmapInfo'\n",
     "output_type": "error",
     "traceback": [
      "\u001b[1;31m---------------------------------------------------------------------------\u001b[0m",
      "\u001b[1;31merror\u001b[0m                                     Traceback (most recent call last)",
      "Cell \u001b[1;32mIn[6], line 9\u001b[0m\n\u001b[0;32m      6\u001b[0m image3 \u001b[39m=\u001b[39m ((ulabel \u001b[39m==\u001b[39m \u001b[39m0\u001b[39m))\u001b[39m.\u001b[39mreshape(\u001b[39m1\u001b[39m, x, y) \u001b[39m*\u001b[39m image2 \u001b[39m+\u001b[39m ((ulabel \u001b[39m!=\u001b[39m \u001b[39m0\u001b[39m)\u001b[39m.\u001b[39mreshape(\u001b[39m1\u001b[39m, x, y) \u001b[39m*\u001b[39m np\u001b[39m.\u001b[39marray([[[\u001b[39m1\u001b[39m]], [[\u001b[39m0\u001b[39m]], [[\u001b[39m0\u001b[39m]]], dtype \u001b[39m=\u001b[39m \u001b[39mfloat\u001b[39m) \u001b[39m+\u001b[39m image2) \u001b[39m/\u001b[39m \u001b[39m2\u001b[39m\n\u001b[0;32m      8\u001b[0m \u001b[39mprint\u001b[39m(image3)\n\u001b[1;32m----> 9\u001b[0m cv2\u001b[39m.\u001b[39;49mimshow(\u001b[39m\"\u001b[39;49m\u001b[39mresult\u001b[39;49m\u001b[39m\"\u001b[39;49m, image3)\n\u001b[0;32m     10\u001b[0m cv2\u001b[39m.\u001b[39mwaitKey(\u001b[39m0\u001b[39m)\n",
      "\u001b[1;31merror\u001b[0m: OpenCV(4.7.0) D:\\a\\opencv-python\\opencv-python\\opencv\\modules\\highgui\\src\\window_w32.cpp:124: error: (-215:Assertion failed) bmi && width >= 0 && height >= 0 && (bpp == 8 || bpp == 24 || bpp == 32) in function 'FillBitmapInfo'\n"
     ]
    }
   ],
   "source": [
    "x, y = res2.shape\n",
    "print(x, y)\n",
    "\n",
    "print(image2)\n",
    "\n",
    "image3 = ((ulabel == 0)).reshape(1, x, y) * image2 + ((ulabel != 0).reshape(1, x, y) * np.array([[[1]], [[0]], [[0]]], dtype = float) + image2) / 2\n",
    "\n",
    "print(image3)\n",
    "cv2.imshow(\"result\", image3)\n",
    "cv2.waitKey(0)"
   ]
  }
 ],
 "metadata": {
  "kernelspec": {
   "display_name": "ver1",
   "language": "python",
   "name": "python3"
  },
  "language_info": {
   "codemirror_mode": {
    "name": "ipython",
    "version": 3
   },
   "file_extension": ".py",
   "mimetype": "text/x-python",
   "name": "python",
   "nbconvert_exporter": "python",
   "pygments_lexer": "ipython3",
   "version": "3.9.16"
  },
  "orig_nbformat": 4
 },
 "nbformat": 4,
 "nbformat_minor": 2
}
