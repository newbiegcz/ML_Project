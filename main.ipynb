{
 "cells": [
  {
   "cell_type": "code",
   "execution_count": 1,
   "metadata": {},
   "outputs": [],
   "source": [
    "import data.dataset\n",
    "import model.prompter\n",
    "import utils.eval"
   ]
  },
  {
   "cell_type": "code",
   "execution_count": 2,
   "metadata": {},
   "outputs": [
    {
     "name": "stderr",
     "output_type": "stream",
     "text": [
      "c:\\Users\\32427\\anaconda3\\envs\\ver1\\lib\\site-packages\\monai\\data\\dataset.py:867: UserWarning: tqdm is not installed, will not show the caching progress bar.\n",
      "  warnings.warn(\"tqdm is not installed, will not show the caching progress bar.\")\n",
      "pixdim[0] (qfac) should be 1 (default) or -1; setting qfac to 1\n"
     ]
    },
    {
     "name": "stdout",
     "output_type": "stream",
     "text": [
      "2023-05-30 17:41:50,324 - pixdim[0] (qfac) should be 1 (default) or -1; setting qfac to 1\n"
     ]
    },
    {
     "name": "stderr",
     "output_type": "stream",
     "text": [
      "pixdim[0] (qfac) should be 1 (default) or -1; setting qfac to 1\n"
     ]
    },
    {
     "name": "stdout",
     "output_type": "stream",
     "text": [
      "2023-05-30 17:41:51,589 - pixdim[0] (qfac) should be 1 (default) or -1; setting qfac to 1\n"
     ]
    }
   ],
   "source": [
    "it = data.dataset.get_data_loader(\"training\", \"naive_to_rgb\", batch_size=1, shuffle=False, device = \"cpu\", first_only=True)"
   ]
  },
  {
   "cell_type": "code",
   "execution_count": 3,
   "metadata": {},
   "outputs": [],
   "source": [
    "import numpy as np\n",
    "import cv2\n",
    "import matplotlib.pyplot as plt\n",
    "from segment_anything import SamPredictor, sam_model_registry\n",
    "\n",
    "model_type = \"vit_b\"\n",
    "model_checkpoint = \"checkpoint/sam_vit_b_01ec64.pth\"\n",
    "\n",
    "sam = sam_model_registry[model_type](checkpoint=model_checkpoint).cuda()\n",
    "sam_predictor = SamPredictor(sam)\n",
    "\n",
    "Promptor = model.prompter.Prompter()"
   ]
  },
  {
   "cell_type": "code",
   "execution_count": 4,
   "metadata": {},
   "outputs": [],
   "source": [
    "import matplotlib.pyplot as plt\n",
    "def show_points(coords, labels, ax, marker_size=375):\n",
    "    pos_points = coords[labels==1]\n",
    "    neg_points = coords[labels==0]\n",
    "    ax.scatter(pos_points[:, 0], pos_points[:, 1], color='green', marker='*', s=marker_size, edgecolor='white', linewidth=1.25)\n",
    "    ax.scatter(neg_points[:, 0], neg_points[:, 1], color='red', marker='*', s=marker_size, edgecolor='white', linewidth=1.25)  \n",
    "\n",
    "def show_box(box, ax):\n",
    "    x0, y0 = box[0], box[1]\n",
    "    w, h = box[2] - box[0], box[3] - box[1]\n",
    "    ax.add_patch(plt.Rectangle((x0, y0), w, h, edgecolor='green', facecolor=(0,0,0,0), lw=2))    \n",
    "\n",
    "def predict(image, label):\n",
    "\n",
    "    global sam_predictor \n",
    "    global sam\n",
    "\n",
    "    image = image.permute(1, 2, 0).numpy()\n",
    "    image *= 255\n",
    "    image = np.array(image, dtype = np.uint8)\n",
    "\n",
    "    #global image2\n",
    "    #image2 = image\n",
    "\n",
    "    sam_predictor.set_image(image)\n",
    "\n",
    "    del sam_predictor\n",
    "    del sam\n",
    "\n",
    "    while(1):\n",
    "        1\n",
    "        \n",
    "    result = np.zeros(label.shape)\n",
    "    scores = np.zeros(label.shape, dtype = float)\n",
    "\n",
    "    for i in range(1, 14):\n",
    "        #print(i)\n",
    "        mask = np.zeros(label.shape, dtype = np.uint8)\n",
    "        mask[label == i] = 1\n",
    "        if (np.max(mask) == 0):\n",
    "            continue\n",
    "        prompt = Promptor(mask, sam_predictor, 7, False, True)\n",
    "        #for j in range(mask.shape[0]):\n",
    "        #    for k in range(mask.shape[1]):\n",
    "        #        print(mask[j][k], end = ' ')\n",
    "        #    print()\n",
    "        #print(prompt)\n",
    "        msk, score, logit = sam_predictor.predict(**prompt)  \n",
    "\n",
    "        x, y, z = msk.shape\n",
    "        msk = msk.reshape(y, z)\n",
    "\n",
    "\n",
    "        # max_id = 1\n",
    "        # print(score)\n",
    "\n",
    "        #plt.ion()\n",
    "\n",
    "        #plt.figure(figsize=(10,10))\n",
    "        #plt.imshow(image)\n",
    "        #show_box(prompt['box'], plt.gca())\n",
    "        #plt.axis('on')\n",
    "        #plt.show()  \n",
    "\n",
    "        #print(scores.shape)\n",
    "        #print(msk.shape)\n",
    "        cond = (scores < score[0]) & msk\n",
    "        scores[cond] = score[0]\n",
    "        result[cond] = i\n",
    "\n",
    "    #global res2\n",
    "    #res2 = result\n",
    "\n",
    "    #global ulabel\n",
    "    #ulabel = label.numpy()\n",
    "\n",
    "    return result\n"
   ]
  },
  {
   "cell_type": "code",
   "execution_count": 5,
   "metadata": {},
   "outputs": [
    {
     "ename": "KeyboardInterrupt",
     "evalue": "",
     "output_type": "error",
     "traceback": [
      "\u001b[1;31m---------------------------------------------------------------------------\u001b[0m",
      "\u001b[1;31mKeyboardInterrupt\u001b[0m                         Traceback (most recent call last)",
      "Cell \u001b[1;32mIn[5], line 1\u001b[0m\n\u001b[1;32m----> 1\u001b[0m \u001b[39mprint\u001b[39m(utils\u001b[39m.\u001b[39;49meval\u001b[39m.\u001b[39;49mevaluate(predict, it))\n",
      "File \u001b[1;32mc:\\Users\\32427\\Documents\\GitHub\\ML_Project\\utils\\eval.py:15\u001b[0m, in \u001b[0;36mevaluate\u001b[1;34m(predicter, data_iter)\u001b[0m\n\u001b[0;32m     13\u001b[0m     \u001b[39mcontinue\u001b[39;00m\n\u001b[0;32m     14\u001b[0m val_inputs, val_labels \u001b[39m=\u001b[39m (batch[\u001b[39m\"\u001b[39m\u001b[39mimage\u001b[39m\u001b[39m\"\u001b[39m], batch[\u001b[39m\"\u001b[39m\u001b[39mlabel\u001b[39m\u001b[39m\"\u001b[39m])\n\u001b[1;32m---> 15\u001b[0m val_outputs \u001b[39m=\u001b[39m predicter(val_inputs[\u001b[39m0\u001b[39;49m], val_labels[\u001b[39m0\u001b[39;49m][\u001b[39m0\u001b[39;49m])\n\u001b[0;32m     16\u001b[0m val_outputs \u001b[39m=\u001b[39m np\u001b[39m.\u001b[39marray(val_outputs, dtype \u001b[39m=\u001b[39m np\u001b[39m.\u001b[39mint8)\n\u001b[0;32m     17\u001b[0m val_labels \u001b[39m=\u001b[39m np\u001b[39m.\u001b[39marray(val_labels, dtype \u001b[39m=\u001b[39m np\u001b[39m.\u001b[39mint8)\n",
      "Cell \u001b[1;32mIn[4], line 31\u001b[0m, in \u001b[0;36mpredict\u001b[1;34m(image, label)\u001b[0m\n\u001b[0;32m     28\u001b[0m \u001b[39mdel\u001b[39;00m sam\n\u001b[0;32m     30\u001b[0m \u001b[39mwhile\u001b[39;00m(\u001b[39m1\u001b[39m):\n\u001b[1;32m---> 31\u001b[0m     \u001b[39m1\u001b[39m\n\u001b[0;32m     33\u001b[0m result \u001b[39m=\u001b[39m np\u001b[39m.\u001b[39mzeros(label\u001b[39m.\u001b[39mshape)\n\u001b[0;32m     34\u001b[0m scores \u001b[39m=\u001b[39m np\u001b[39m.\u001b[39mzeros(label\u001b[39m.\u001b[39mshape, dtype \u001b[39m=\u001b[39m \u001b[39mfloat\u001b[39m)\n",
      "\u001b[1;31mKeyboardInterrupt\u001b[0m: "
     ]
    }
   ],
   "source": [
    "print(utils.eval.evaluate(predict, it))"
   ]
  },
  {
   "cell_type": "code",
   "execution_count": null,
   "metadata": {},
   "outputs": [],
   "source": [
    "#x, y = res2.shape\n",
    "#print(x, y)\n",
    "\n",
    "#print(image2.shape)\n",
    "\n",
    "#print(np.max(image2), np.min(image2))\n",
    "\n",
    "#image3 = ((res2 != 2)).reshape(x, y, 1) * image2 + (res2 == 2).reshape(x, y, 1) * (np.array([[[0, 0, 255]]], dtype = float) - image2) / 2\n",
    "\n",
    "#image3 = np.array(image3, dtype = np.uint8)\n",
    "#while(True):\n",
    "#    cv2.imshow(\"result\", image3)\n",
    "#    cv2.waitKey(10)\n",
    "\n",
    "#plt.figure(figsize=(12,12))\n",
    "#plt.axis(\"off\")\n",
    "#plt.imshow(image2)\n",
    "#plt.savefig(\"1.png\")\n"
   ]
  }
 ],
 "metadata": {
  "kernelspec": {
   "display_name": "ver1",
   "language": "python",
   "name": "python3"
  },
  "language_info": {
   "codemirror_mode": {
    "name": "ipython",
    "version": 3
   },
   "file_extension": ".py",
   "mimetype": "text/x-python",
   "name": "python",
   "nbconvert_exporter": "python",
   "pygments_lexer": "ipython3",
   "version": "3.9.16"
  },
  "orig_nbformat": 4
 },
 "nbformat": 4,
 "nbformat_minor": 2
}
